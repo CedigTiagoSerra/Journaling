{
  "nbformat": 4,
  "nbformat_minor": 5,
  "metadata": {
    "kernelspec": {
      "display_name": "Python 3",
      "language": "python",
      "name": "python3"
    },
    "language_info": {
      "codemirror_mode": {
        "name": "ipython",
        "version": 3
      },
      "file_extension": ".py",
      "mimetype": "text/x-python",
      "name": "python",
      "nbconvert_exporter": "python",
      "pygments_lexer": "ipython3",
      "version": "3.10"
    },
    "colab": {
      "provenance": [],
      "toc_visible": true,
      "include_colab_link": true
    }
  },
  "cells": [
    {
      "cell_type": "markdown",
      "metadata": {
        "id": "view-in-github",
        "colab_type": "text"
      },
      "source": [
        "<a href=\"https://colab.research.google.com/github/CedigTiagoSerra/Journaling/blob/main/Python.ipynb\" target=\"_parent\"><img src=\"https://colab.research.google.com/assets/colab-badge.svg\" alt=\"Open In Colab\"/></a>"
      ]
    },
    {
      "cell_type": "markdown",
      "source": [
        "# Python"
      ],
      "metadata": {
        "id": "O6xCRfmhiKKF"
      },
      "id": "O6xCRfmhiKKF"
    },
    {
      "cell_type": "markdown",
      "source": [
        "## 1.History of Python"
      ],
      "metadata": {
        "id": "s5-IE37niPJj"
      },
      "id": "s5-IE37niPJj"
    },
    {
      "cell_type": "markdown",
      "source": [
        "Python was created in 1989 by Guido van Rossum at CWI in the Netherlands as a simple, readable programming language that combined the power of C with the ease of shell scripting. It was released publicly in 1991 as Python 1.0, followed by Python 2.0 in 2000, which introduced features like list comprehensions and Unicode, but was officially discontinued in 2020. Python 3.0, launched in 2008, fixed design flaws and is the version widely used today. The name “Python” was inspired not by the snake, but by the British comedy show “Monty Python’s Flying Circus”, which Guido enjoyed and wanted the language to reflect — being fun and approachable as well as powerful.\n",
        "\n",
        "**Infographic of Python’s history:**\n",
        "\n",
        "<img src=\"https://raw.githubusercontent.com/CedigTiagoSerra/Journaling/refs/heads/main/resources/img/python_history.png\" width=\"350\" />"
      ],
      "metadata": {
        "id": "gFMjV7bWiW4N"
      },
      "id": "gFMjV7bWiW4N"
    },
    {
      "cell_type": "markdown",
      "source": [
        "## 2.Introduction to Python"
      ],
      "metadata": {
        "id": "IQ0WFkpwL83L"
      },
      "id": "IQ0WFkpwL83L"
    },
    {
      "cell_type": "markdown",
      "source": [
        "### 2.1 Variables and Operators"
      ],
      "metadata": {
        "id": "nef7zkfWMTI6"
      },
      "id": "nef7zkfWMTI6"
    },
    {
      "cell_type": "markdown",
      "source": [
        "A variable is used to store information that can be referenced later on."
      ],
      "metadata": {
        "id": "sbWtdSK1O-eF"
      },
      "id": "sbWtdSK1O-eF"
    },
    {
      "cell_type": "code",
      "source": [
        "result = 3 * 5\n",
        "result"
      ],
      "metadata": {
        "colab": {
          "base_uri": "https://localhost:8080/"
        },
        "id": "jPFPXco0MRY6",
        "outputId": "6c01dd47-979e-430c-c875-d23cd891fcc6"
      },
      "execution_count": 32,
      "outputs": [
        {
          "output_type": "execute_result",
          "data": {
            "text/plain": [
              "15"
            ]
          },
          "metadata": {},
          "execution_count": 32
        }
      ],
      "id": "jPFPXco0MRY6"
    },
    {
      "cell_type": "markdown",
      "source": [
        "#### 2.1.1 Python data types"
      ],
      "metadata": {
        "id": "W4X34KfxQwo8"
      },
      "id": "W4X34KfxQwo8"
    },
    {
      "cell_type": "markdown",
      "source": [
        "##### 2.1.1.1 Integer"
      ],
      "metadata": {
        "id": "iICHM5OCRBbc"
      },
      "id": "iICHM5OCRBbc"
    },
    {
      "cell_type": "markdown",
      "source": [
        "The Python integer is a non-fractional number, like 1, 2, 45, -1, -2, and -100. It’s one of the three types of numbers."
      ],
      "metadata": {
        "id": "OafW8xflReY9"
      },
      "id": "OafW8xflReY9"
    },
    {
      "cell_type": "code",
      "source": [
        "integer = 98762345098709872345000\n",
        "integer + 1\n",
        "integer"
      ],
      "metadata": {
        "colab": {
          "base_uri": "https://localhost:8080/"
        },
        "id": "8KkJi4PTPGFG",
        "outputId": "fa6e0d23-2f34-4174-aa55-505ba83ffccb"
      },
      "execution_count": 33,
      "outputs": [
        {
          "output_type": "execute_result",
          "data": {
            "text/plain": [
              "98762345098709872345000"
            ]
          },
          "metadata": {},
          "execution_count": 33
        }
      ],
      "id": "8KkJi4PTPGFG"
    },
    {
      "cell_type": "code",
      "source": [
        "# String to integer\n",
        "int('100')"
      ],
      "metadata": {
        "colab": {
          "base_uri": "https://localhost:8080/"
        },
        "id": "TnfaBoWKQAYd",
        "outputId": "0e25bd8e-701f-48ea-eb1c-5646f5a7f0ac"
      },
      "execution_count": 34,
      "outputs": [
        {
          "output_type": "execute_result",
          "data": {
            "text/plain": [
              "100"
            ]
          },
          "metadata": {},
          "execution_count": 34
        }
      ],
      "id": "TnfaBoWKQAYd"
    },
    {
      "cell_type": "code",
      "source": [
        "# Integer to string\n",
        "str(200)"
      ],
      "metadata": {
        "colab": {
          "base_uri": "https://localhost:8080/",
          "height": 0
        },
        "id": "KiCTHp35R_JN",
        "outputId": "7dabb1a2-46bf-44cb-9218-8634a628d93d"
      },
      "execution_count": 35,
      "outputs": [
        {
          "output_type": "execute_result",
          "data": {
            "text/plain": [
              "'200'"
            ],
            "application/vnd.google.colaboratory.intrinsic+json": {
              "type": "string"
            }
          },
          "metadata": {},
          "execution_count": 35
        }
      ],
      "id": "KiCTHp35R_JN"
    },
    {
      "cell_type": "code",
      "source": [
        "# Float to integer\n",
        "int(2.3)"
      ],
      "metadata": {
        "colab": {
          "base_uri": "https://localhost:8080/"
        },
        "id": "9-lBfTe3SBRb",
        "outputId": "eab060e8-c983-4c44-edd9-807df35df979"
      },
      "execution_count": 36,
      "outputs": [
        {
          "output_type": "execute_result",
          "data": {
            "text/plain": [
              "2"
            ]
          },
          "metadata": {},
          "execution_count": 36
        }
      ],
      "id": "9-lBfTe3SBRb"
    },
    {
      "cell_type": "code",
      "source": [
        "# Random\n",
        "import random\n",
        "random.randint(1,10)"
      ],
      "metadata": {
        "colab": {
          "base_uri": "https://localhost:8080/"
        },
        "id": "wpiQjqdJSJJj",
        "outputId": "303e38c3-11d3-4f15-b717-98f0f7577c8a"
      },
      "execution_count": 37,
      "outputs": [
        {
          "output_type": "execute_result",
          "data": {
            "text/plain": [
              "8"
            ]
          },
          "metadata": {},
          "execution_count": 37
        }
      ],
      "id": "wpiQjqdJSJJj"
    },
    {
      "cell_type": "markdown",
      "source": [
        "We can use the type() function to check if a value is an integer."
      ],
      "metadata": {
        "id": "37h05Vr1SuAY"
      },
      "id": "37h05Vr1SuAY"
    },
    {
      "cell_type": "code",
      "source": [
        "type(2)"
      ],
      "metadata": {
        "colab": {
          "base_uri": "https://localhost:8080/"
        },
        "id": "8YqqKU1XSmUX",
        "outputId": "6572dc70-70b7-490c-ce8a-1b9d37d17613"
      },
      "execution_count": 38,
      "outputs": [
        {
          "output_type": "execute_result",
          "data": {
            "text/plain": [
              "int"
            ]
          },
          "metadata": {},
          "execution_count": 38
        }
      ],
      "id": "8YqqKU1XSmUX"
    },
    {
      "cell_type": "code",
      "source": [
        "if isinstance(2, int):\n",
        "  print('An integer')"
      ],
      "metadata": {
        "colab": {
          "base_uri": "https://localhost:8080/"
        },
        "id": "rNTCR5m6S4Eb",
        "outputId": "7c2955df-1a93-4c86-ecbe-b762ea57fc1d"
      },
      "execution_count": 39,
      "outputs": [
        {
          "output_type": "stream",
          "name": "stdout",
          "text": [
            "An integer\n"
          ]
        }
      ],
      "id": "rNTCR5m6S4Eb"
    },
    {
      "cell_type": "code",
      "source": [],
      "metadata": {
        "id": "Xc0lTQE_S8Zp"
      },
      "execution_count": 39,
      "outputs": [],
      "id": "Xc0lTQE_S8Zp"
    },
    {
      "cell_type": "markdown",
      "source": [
        "##### 2.1.1.2 Float"
      ],
      "metadata": {
        "id": "PzHtuCC0TSZv"
      },
      "id": "PzHtuCC0TSZv"
    },
    {
      "cell_type": "markdown",
      "source": [
        "A Python float is a numerical data type that represents a floating-point number."
      ],
      "metadata": {
        "id": "GmdqyTPkUtv1"
      },
      "id": "GmdqyTPkUtv1"
    },
    {
      "cell_type": "code",
      "source": [
        "f = 1.45\n",
        "f"
      ],
      "metadata": {
        "colab": {
          "base_uri": "https://localhost:8080/"
        },
        "id": "4K3QPSiMUnsR",
        "outputId": "73991419-1c30-4941-ed18-1a12a431bdb3"
      },
      "execution_count": 40,
      "outputs": [
        {
          "output_type": "execute_result",
          "data": {
            "text/plain": [
              "1.45"
            ]
          },
          "metadata": {},
          "execution_count": 40
        }
      ],
      "id": "4K3QPSiMUnsR"
    },
    {
      "cell_type": "code",
      "source": [
        "f = float(2.0)\n",
        "f = float(2)\n",
        "f = float(\"2\")\n",
        "f"
      ],
      "metadata": {
        "colab": {
          "base_uri": "https://localhost:8080/"
        },
        "id": "7ohbfkh8U0Q9",
        "outputId": "b03b1d8a-0034-44e1-a8ca-f674f863f007"
      },
      "execution_count": 41,
      "outputs": [
        {
          "output_type": "execute_result",
          "data": {
            "text/plain": [
              "2.0"
            ]
          },
          "metadata": {},
          "execution_count": 41
        }
      ],
      "id": "7ohbfkh8U0Q9"
    },
    {
      "cell_type": "code",
      "source": [
        "f = 1.45e3\n",
        "f"
      ],
      "metadata": {
        "colab": {
          "base_uri": "https://localhost:8080/"
        },
        "id": "e43eFyrCU3YZ",
        "outputId": "fdd8987d-4a72-4c96-d31e-f0c40ad3259a"
      },
      "execution_count": 42,
      "outputs": [
        {
          "output_type": "execute_result",
          "data": {
            "text/plain": [
              "1450.0"
            ]
          },
          "metadata": {},
          "execution_count": 42
        }
      ],
      "id": "e43eFyrCU3YZ"
    },
    {
      "cell_type": "markdown",
      "source": [
        "**Round, floor, and upper**\n",
        "\n",
        "With floats, we often need to round numbers. For this, Python has the round function. The round function accepts two arguments: the number itself and an optional precision (the number of decimals). The default for this last number is 0, meaning that it will round to whole integers. Some examples:"
      ],
      "metadata": {
        "id": "AgDSmsrHVIyt"
      },
      "id": "AgDSmsrHVIyt"
    },
    {
      "cell_type": "code",
      "source": [
        "f = 1.4567\n",
        "round(f)\n",
        "f"
      ],
      "metadata": {
        "colab": {
          "base_uri": "https://localhost:8080/"
        },
        "id": "5UopZb0uU6v6",
        "outputId": "e315e0eb-3b87-413f-edb1-9ce8136351e6"
      },
      "execution_count": 43,
      "outputs": [
        {
          "output_type": "execute_result",
          "data": {
            "text/plain": [
              "1.4567"
            ]
          },
          "metadata": {},
          "execution_count": 43
        }
      ],
      "id": "5UopZb0uU6v6"
    },
    {
      "cell_type": "code",
      "source": [
        "round(f, 2)"
      ],
      "metadata": {
        "colab": {
          "base_uri": "https://localhost:8080/"
        },
        "id": "JnOmRCT4VTR8",
        "outputId": "cc3f5139-64ba-40cb-f648-776893fed7c7"
      },
      "execution_count": 44,
      "outputs": [
        {
          "output_type": "execute_result",
          "data": {
            "text/plain": [
              "1.46"
            ]
          },
          "metadata": {},
          "execution_count": 44
        }
      ],
      "id": "JnOmRCT4VTR8"
    },
    {
      "cell_type": "code",
      "source": [
        "f = 1.54\n",
        "round(f)"
      ],
      "metadata": {
        "colab": {
          "base_uri": "https://localhost:8080/"
        },
        "id": "lundWefzVWBR",
        "outputId": "fcc14b3e-1c0a-4d72-dde4-83fb574ad6d0"
      },
      "execution_count": 45,
      "outputs": [
        {
          "output_type": "execute_result",
          "data": {
            "text/plain": [
              "2"
            ]
          },
          "metadata": {},
          "execution_count": 45
        }
      ],
      "id": "lundWefzVWBR"
    },
    {
      "cell_type": "code",
      "source": [
        "round(f, 1)"
      ],
      "metadata": {
        "colab": {
          "base_uri": "https://localhost:8080/"
        },
        "id": "fY4Fn-4QVbKv",
        "outputId": "5d169444-4182-4cb0-c681-aaf55ae540be"
      },
      "execution_count": 46,
      "outputs": [
        {
          "output_type": "execute_result",
          "data": {
            "text/plain": [
              "1.5"
            ]
          },
          "metadata": {},
          "execution_count": 46
        }
      ],
      "id": "fY4Fn-4QVbKv"
    },
    {
      "cell_type": "code",
      "source": [
        "from math import floor, ceil\n",
        "# Round 1.23 down to the nearest integer\n",
        "x = floor(1.23)  # x will be 1\n",
        "x"
      ],
      "metadata": {
        "colab": {
          "base_uri": "https://localhost:8080/"
        },
        "id": "t822qGV5VdKZ",
        "outputId": "d7d7274d-02e1-4e23-96eb-aecdb64c932f"
      },
      "execution_count": 47,
      "outputs": [
        {
          "output_type": "execute_result",
          "data": {
            "text/plain": [
              "1"
            ]
          },
          "metadata": {},
          "execution_count": 47
        }
      ],
      "id": "t822qGV5VdKZ"
    },
    {
      "cell_type": "code",
      "source": [
        "from math import floor, ceil\n",
        "# Round 1.23 up to the nearest integer\n",
        "y = ceil(1.23)  # y will be 2\n",
        "y"
      ],
      "metadata": {
        "colab": {
          "base_uri": "https://localhost:8080/"
        },
        "id": "73HtkfYaYX2p",
        "outputId": "bf8416c1-639b-4758-fb16-17135eb4d5de"
      },
      "execution_count": 48,
      "outputs": [
        {
          "output_type": "execute_result",
          "data": {
            "text/plain": [
              "2"
            ]
          },
          "metadata": {},
          "execution_count": 48
        }
      ],
      "id": "73HtkfYaYX2p"
    },
    {
      "cell_type": "markdown",
      "source": [
        "##### 2.1.1.3 Tuple"
      ],
      "metadata": {
        "id": "iCmndfMCZB91"
      },
      "id": "iCmndfMCZB91"
    },
    {
      "cell_type": "markdown",
      "source": [
        "In Python, a tuple is an ordered and immutable collection of elements.\n",
        "This means:\n",
        "*   Ordered → It preserves the order in which the items were added;\n",
        "*   Immutable → Once created, you cannot change, add, or remove elements;\n",
        "*   Can hold different data types → Numbers, strings, lists, etc;\n",
        "*   Uses parentheses () to define it (unlike lists, which use [])."
      ],
      "metadata": {
        "id": "RUP7PiM0ZIxI"
      },
      "id": "RUP7PiM0ZIxI"
    },
    {
      "cell_type": "code",
      "source": [
        "# Creating a tuple\n",
        "my_tuple = (1, \"Python\", 3.14)\n",
        "\n",
        "# Accessing elements\n",
        "print(my_tuple[0])   # Output: 1\n",
        "print(my_tuple[1])   # Output: Python\n",
        "\n",
        "# Length of tuple\n",
        "print(len(my_tuple)) # Output: 3"
      ],
      "metadata": {
        "colab": {
          "base_uri": "https://localhost:8080/"
        },
        "id": "dyHxJ79rZGEd",
        "outputId": "d5a8f934-0505-4404-c64b-b512f336ab5e"
      },
      "execution_count": 49,
      "outputs": [
        {
          "output_type": "stream",
          "name": "stdout",
          "text": [
            "1\n",
            "Python\n",
            "3\n"
          ]
        }
      ],
      "id": "dyHxJ79rZGEd"
    },
    {
      "cell_type": "markdown",
      "source": [
        "##### 2.1.1.4 Lists"
      ],
      "metadata": {
        "id": "bBIum7rQacV1"
      },
      "id": "bBIum7rQacV1"
    },
    {
      "cell_type": "markdown",
      "source": [
        "A list is an ordered and mutable collection of elements.\n",
        "\n",
        "\n",
        "*   Ordered → Maintains the order of items;\n",
        "*   Mutable → You can add, remove, or modify elements after creating it;\n",
        "*   Can hold different data types → Numbers, strings, objects, even other lists;\n",
        "*   Uses square brackets [] to define it."
      ],
      "metadata": {
        "id": "Df20CrH-agOs"
      },
      "id": "Df20CrH-agOs"
    },
    {
      "cell_type": "code",
      "source": [
        "# Creating a list\n",
        "my_list = [1, \"Python\", 3.14]\n",
        "\n",
        "# Accessing elements\n",
        "print(my_list[0])   # Output: 1\n",
        "\n",
        "# Adding an element\n",
        "my_list.append(\"New item\")\n",
        "print(my_list)      # Output: [1, \"Python\", 3.14, \"New item\"]\n",
        "\n",
        "# Modifying an element\n",
        "my_list[1] = \"JavaScript\"\n",
        "print(my_list)      # Output: [1, \"JavaScript\", 3.14, \"New item\"]"
      ],
      "metadata": {
        "colab": {
          "base_uri": "https://localhost:8080/"
        },
        "id": "OMirsijmZewl",
        "outputId": "ad7a08b7-f001-4728-9fb3-0bbf4097de06"
      },
      "execution_count": 50,
      "outputs": [
        {
          "output_type": "stream",
          "name": "stdout",
          "text": [
            "1\n",
            "[1, 'Python', 3.14, 'New item']\n",
            "[1, 'JavaScript', 3.14, 'New item']\n"
          ]
        }
      ],
      "id": "OMirsijmZewl"
    },
    {
      "cell_type": "markdown",
      "source": [],
      "metadata": {
        "id": "1d-KXMLNc0kk"
      },
      "id": "1d-KXMLNc0kk"
    },
    {
      "cell_type": "markdown",
      "source": [
        "##### 2.1.1.5 Set"
      ],
      "metadata": {
        "id": "syqbnUscc3ic"
      },
      "id": "syqbnUscc3ic"
    },
    {
      "cell_type": "markdown",
      "source": [
        "A set is an unordered collection of unique elements.\n",
        "\n",
        "*   Unordered → The items don’t have a fixed position (no indexing);\n",
        "*   Unique values → Duplicates are automatically removed;\n",
        "*   Mutable → You can add or remove elements, but not modify them directly;\n",
        "*   Uses curly braces {} or the set() constructor."
      ],
      "metadata": {
        "id": "J06WRI36c8KF"
      },
      "id": "J06WRI36c8KF"
    },
    {
      "cell_type": "code",
      "source": [
        "# Creating a set\n",
        "my_set = {1, 2, 3, 3, 4}\n",
        "\n",
        "print(my_set)  # Output: {1, 2, 3, 4} (duplicates removed)\n",
        "\n",
        "# Adding an element\n",
        "my_set.add(5)\n",
        "print(my_set)  # Output: {1, 2, 3, 4, 5}\n",
        "\n",
        "# Removing an element\n",
        "my_set.remove(2)\n",
        "print(my_set)  # Output: {1, 3, 4, 5}"
      ],
      "metadata": {
        "colab": {
          "base_uri": "https://localhost:8080/"
        },
        "id": "rqOXsXF_azxV",
        "outputId": "8197c6fd-78ef-48b7-a87a-167544423c00"
      },
      "execution_count": 51,
      "outputs": [
        {
          "output_type": "stream",
          "name": "stdout",
          "text": [
            "{1, 2, 3, 4}\n",
            "{1, 2, 3, 4, 5}\n",
            "{1, 3, 4, 5}\n"
          ]
        }
      ],
      "id": "rqOXsXF_azxV"
    },
    {
      "cell_type": "markdown",
      "source": [
        "##### 2.1.1.6 Dictionary"
      ],
      "metadata": {
        "id": "x1RqSK-pdcTu"
      },
      "id": "x1RqSK-pdcTu"
    },
    {
      "cell_type": "markdown",
      "source": [
        "A dictionary is a collection of key–value pairs where each key is unique.\n",
        "\n",
        "*   Key–Value Structure → You access values using a key instead of an index;\n",
        "*   Mutable → You can add, remove, or modify items;\n",
        "*   Keys are unique; values can be duplicated;\n",
        "*   Uses curly braces {} with a key: value format.\n"
      ],
      "metadata": {
        "id": "R0MARlxydx-f"
      },
      "id": "R0MARlxydx-f"
    },
    {
      "cell_type": "code",
      "source": [
        "# Creating a dictionary\n",
        "my_dict = {\n",
        "    \"name\": \"Alice\",\n",
        "    \"age\": 25,\n",
        "    \"city\": \"New York\"\n",
        "}\n",
        "\n",
        "# Accessing values by key\n",
        "print(my_dict[\"name\"])  # Output: Alice\n",
        "\n",
        "# Adding a new key-value pair\n",
        "my_dict[\"country\"] = \"USA\"\n",
        "\n",
        "# Modifying a value\n",
        "my_dict[\"age\"] = 26\n",
        "\n",
        "# Removing a key-value pair\n",
        "del my_dict[\"city\"]\n",
        "\n",
        "print(my_dict)\n",
        "# Output: {'name': 'Alice', 'age': 26, 'country': 'USA'}"
      ],
      "metadata": {
        "colab": {
          "base_uri": "https://localhost:8080/"
        },
        "id": "iOwxvSWzdQ0P",
        "outputId": "b87a70c3-d463-451f-e256-4e931b8bcafc"
      },
      "execution_count": 52,
      "outputs": [
        {
          "output_type": "stream",
          "name": "stdout",
          "text": [
            "Alice\n",
            "{'name': 'Alice', 'age': 26, 'country': 'USA'}\n"
          ]
        }
      ],
      "id": "iOwxvSWzdQ0P"
    },
    {
      "cell_type": "markdown",
      "source": [
        "#### 2.1.2 Operators"
      ],
      "metadata": {
        "id": "09JLrXD9iMQG"
      },
      "id": "09JLrXD9iMQG"
    },
    {
      "cell_type": "markdown",
      "metadata": {
        "id": "zCqdrrBj25XK"
      },
      "source": [
        "##### 2.1.2.1. Arithmetic Operators\n"
      ],
      "id": "zCqdrrBj25XK"
    },
    {
      "cell_type": "markdown",
      "source": [
        "Used for mathematical calculations:\n",
        "\n",
        "| Operator | Description | Example |\n",
        "|----------|-------------|---------|\n",
        "| +      | Addition | 5 + 3 = 8 |\n",
        "| -      | Subtraction | 5 - 3 = 2 |\n",
        "| *      | Multiplication | 5 * 3 = 15 |\n",
        "| /      | Division | 5 / 2 = 2.5 |\n",
        "| //     | Floor Division | 5 // 2 = 2 |\n",
        "| %      | Modulus (remainder) | 5 % 2 = 1 |\n",
        "| **     | Exponentiation | 2 ** 3 = 8 |"
      ],
      "metadata": {
        "id": "_ruTc9yZ3KOy"
      },
      "id": "_ruTc9yZ3KOy"
    },
    {
      "cell_type": "code",
      "metadata": {
        "colab": {
          "base_uri": "https://localhost:8080/"
        },
        "id": "c0F_SaV525XK",
        "outputId": "0ac336ec-1e6e-43b4-cba6-3dfcd4f733fa"
      },
      "source": [
        "# Arithmetic Operators Example\n",
        "a = 5\n",
        "b = 2\n",
        "print(\"a + b =\", a + b)\n",
        "print(\"a - b =\", a - b)\n",
        "print(\"a * b =\", a * b)\n",
        "print(\"a / b =\", a / b)\n",
        "print(\"a // b =\", a // b)\n",
        "print(\"a % b =\", a % b)\n",
        "print(\"a ** b =\", a ** b)"
      ],
      "execution_count": 53,
      "outputs": [
        {
          "output_type": "stream",
          "name": "stdout",
          "text": [
            "a + b = 7\n",
            "a - b = 3\n",
            "a * b = 10\n",
            "a / b = 2.5\n",
            "a // b = 2\n",
            "a % b = 1\n",
            "a ** b = 25\n"
          ]
        }
      ],
      "id": "c0F_SaV525XK"
    },
    {
      "cell_type": "markdown",
      "metadata": {
        "id": "lCZbamli25XK"
      },
      "source": [
        "##### 2.1.2.2 Comparison Operators"
      ],
      "id": "lCZbamli25XK"
    },
    {
      "cell_type": "markdown",
      "source": [
        "Used to compare values, returning True or False.\n",
        "\n",
        "| Operator | Description | Example |\n",
        "|----------|-------------|---------|\n",
        "| == | Equal to | 5 == 3 → False |\n",
        "| != | Not equal | 5 != 3 → True |\n",
        "| > | Greater than | 5 > 3 → True |\n",
        "| < | Less than | 5 < 3 → False |\n",
        "| >= | Greater or equal | 5 >= 3 → True |\n",
        "| <= | Less or equal | 5 <= 3 → False |"
      ],
      "metadata": {
        "id": "k_UiTPtc3hxy"
      },
      "id": "k_UiTPtc3hxy"
    },
    {
      "cell_type": "code",
      "metadata": {
        "colab": {
          "base_uri": "https://localhost:8080/"
        },
        "id": "upeh3_dh25XK",
        "outputId": "824e37ab-5b51-4978-d50c-fd0c1130851f"
      },
      "source": [
        "# Comparison Operators Example\n",
        "x = 5\n",
        "y = 3\n",
        "print(\"x == y:\", x == y)\n",
        "print(\"x != y:\", x != y)\n",
        "print(\"x > y:\", x > y)\n",
        "print(\"x < y:\", x < y)\n",
        "print(\"x >= y:\", x >= y)\n",
        "print(\"x <= y:\", x <= y)"
      ],
      "execution_count": 54,
      "outputs": [
        {
          "output_type": "stream",
          "name": "stdout",
          "text": [
            "x == y: False\n",
            "x != y: True\n",
            "x > y: True\n",
            "x < y: False\n",
            "x >= y: True\n",
            "x <= y: False\n"
          ]
        }
      ],
      "id": "upeh3_dh25XK"
    },
    {
      "cell_type": "markdown",
      "metadata": {
        "id": "wj-11wXa25XK"
      },
      "source": [
        "##### 2.1.2.3 Logical Operators\n"
      ],
      "id": "wj-11wXa25XK"
    },
    {
      "cell_type": "markdown",
      "source": [
        "Combine conditional statements.\n",
        "\n",
        "| Operator | Description | Example |\n",
        "|----------|-------------|---------|\n",
        "| and | True if **both** conditions are True | 5 > 3 and 2 < 4 → True |\n",
        "| or | True if **one** condition is True | 5 > 3 or 2 > 4 → True |\n",
        "| not | Reverses True/False | not(5 > 3) → False |"
      ],
      "metadata": {
        "id": "-y6ljmSU30rB"
      },
      "id": "-y6ljmSU30rB"
    },
    {
      "cell_type": "code",
      "metadata": {
        "colab": {
          "base_uri": "https://localhost:8080/"
        },
        "id": "oUDODm2c25XL",
        "outputId": "c65f2c03-03de-4f29-f14b-a6297072fd8f"
      },
      "source": [
        "# Logical Operators Example\n",
        "a = True\n",
        "b = False\n",
        "print(\"a and b:\", a and b)\n",
        "print(\"a or b:\", a or b)\n",
        "print(\"not a:\", not a)"
      ],
      "execution_count": 55,
      "outputs": [
        {
          "output_type": "stream",
          "name": "stdout",
          "text": [
            "a and b: False\n",
            "a or b: True\n",
            "not a: False\n"
          ]
        }
      ],
      "id": "oUDODm2c25XL"
    },
    {
      "cell_type": "markdown",
      "metadata": {
        "id": "tkh1c0Ix25XL"
      },
      "source": [
        "##### 2.1.2.4 Assignment Operators\n"
      ],
      "id": "tkh1c0Ix25XL"
    },
    {
      "cell_type": "markdown",
      "source": [
        "Used to assign values and modify variables.\n",
        "\n",
        "| Operator | Example | Equivalent to |\n",
        "|----------|---------|---------------|\n",
        "| = | x = 5 | x = 5 |\n",
        "| += | x += 3 | x = x + 3 |\n",
        "| -= | x -= 3 | x = x - 3 |\n",
        "| *= | x *= 3 | x = x * 3 |\n",
        "| /= | x /= 3 | x = x / 3 |\n",
        "| //= | x //= 3 | x = x // 3 |\n",
        "| %= | x %= 3 | x = x % 3 |\n",
        "| **= | x **= 3 | x = x ** 3 |"
      ],
      "metadata": {
        "id": "yArjJVb3370B"
      },
      "id": "yArjJVb3370B"
    },
    {
      "cell_type": "code",
      "metadata": {
        "colab": {
          "base_uri": "https://localhost:8080/"
        },
        "id": "LVftfMGg25XL",
        "outputId": "33006d6c-cc3e-44c7-c310-a0b639e8a9d2"
      },
      "source": [
        "# Assignment Operators Example\n",
        "x = 10\n",
        "x += 5\n",
        "print(\"x after += 5:\", x)\n",
        "x *= 2\n",
        "print(\"x after *= 2:\", x)"
      ],
      "execution_count": 56,
      "outputs": [
        {
          "output_type": "stream",
          "name": "stdout",
          "text": [
            "x after += 5: 15\n",
            "x after *= 2: 30\n"
          ]
        }
      ],
      "id": "LVftfMGg25XL"
    },
    {
      "cell_type": "markdown",
      "metadata": {
        "id": "U6AYz3AI25XL"
      },
      "source": [
        "##### 2.1.2.5 Bitwise Operators\n"
      ],
      "id": "U6AYz3AI25XL"
    },
    {
      "cell_type": "markdown",
      "source": [
        "Work on binary numbers.\n",
        "\n",
        "| Operator | Description | Example |\n",
        "|----------|-------------|---------|\n",
        "| & | AND | 5 & 3 → 1 |\n",
        "| | | OR | 5 | 3 → 7 |\n",
        "| ^ | XOR | 5 ^ 3 → 6 |\n",
        "| ~ | NOT | ~5 → -6 |\n",
        "| << | Left shift | 5 << 1 → 10 |\n",
        "| >> | Right shift | 5 >> 1 → 2 |"
      ],
      "metadata": {
        "id": "MGOJuFGt4Csx"
      },
      "id": "MGOJuFGt4Csx"
    },
    {
      "cell_type": "code",
      "metadata": {
        "colab": {
          "base_uri": "https://localhost:8080/"
        },
        "id": "fWAeUEug25XL",
        "outputId": "a78a4db6-1cae-42ca-a431-d08e4fe57762"
      },
      "source": [
        "# Bitwise Operators Example\n",
        "a = 5  # 0101 in binary\n",
        "b = 3  # 0011 in binary\n",
        "print(\"a & b:\", a & b)\n",
        "print(\"a | b:\", a | b)\n",
        "print(\"a ^ b:\", a ^ b)\n",
        "print(\"~a:\", ~a)\n",
        "print(\"a << 1:\", a << 1)\n",
        "print(\"a >> 1:\", a >> 1)"
      ],
      "execution_count": 57,
      "outputs": [
        {
          "output_type": "stream",
          "name": "stdout",
          "text": [
            "a & b: 1\n",
            "a | b: 7\n",
            "a ^ b: 6\n",
            "~a: -6\n",
            "a << 1: 10\n",
            "a >> 1: 2\n"
          ]
        }
      ],
      "id": "fWAeUEug25XL"
    },
    {
      "cell_type": "markdown",
      "metadata": {
        "id": "cMWXMIba25XM"
      },
      "source": [
        "##### 2.1.2.7 Membership Operators\n"
      ],
      "id": "cMWXMIba25XM"
    },
    {
      "cell_type": "markdown",
      "source": [
        "Check if a value exists in a sequence.\n",
        "\n",
        "| Operator | Description | Example |\n",
        "|----------|-------------|---------|\n",
        "| in | True if value exists | 3 in [1,2,3] → True |\n",
        "| not in | True if value does NOT exist | 4 not in [1,2,3] → True |"
      ],
      "metadata": {
        "id": "xNwxpYlu4IVS"
      },
      "id": "xNwxpYlu4IVS"
    },
    {
      "cell_type": "code",
      "metadata": {
        "colab": {
          "base_uri": "https://localhost:8080/"
        },
        "id": "T_TOjM3D25XM",
        "outputId": "47a2a699-2697-4ae1-f036-6d0000166b7a"
      },
      "source": [
        "# Membership Operators Example\n",
        "nums = [1, 2, 3]\n",
        "print(\"3 in nums:\", 3 in nums)\n",
        "print(\"4 not in nums:\", 4 not in nums)"
      ],
      "execution_count": 58,
      "outputs": [
        {
          "output_type": "stream",
          "name": "stdout",
          "text": [
            "3 in nums: True\n",
            "4 not in nums: True\n"
          ]
        }
      ],
      "id": "T_TOjM3D25XM"
    },
    {
      "cell_type": "markdown",
      "metadata": {
        "id": "FA27Abh825XM"
      },
      "source": [
        "##### 2.1.2.8 Identity Operators\n"
      ],
      "id": "FA27Abh825XM"
    },
    {
      "cell_type": "markdown",
      "source": [
        "Check if two objects are the same in memory.\n",
        "\n",
        "| Operator | Description | Example |\n",
        "|----------|-------------|---------|\n",
        "| is | True if objects are same | x is y |\n",
        "| is not | True if objects are different | x is not y |"
      ],
      "metadata": {
        "id": "0au7YYnF4NVe"
      },
      "id": "0au7YYnF4NVe"
    },
    {
      "cell_type": "code",
      "metadata": {
        "colab": {
          "base_uri": "https://localhost:8080/"
        },
        "id": "dKOppoQI25XM",
        "outputId": "0db4fcca-bcd9-4d27-cace-df5ce7805672"
      },
      "source": [
        "# Identity Operators Example\n",
        "x = [1, 2]\n",
        "y = x\n",
        "z = [1, 2]\n",
        "print(\"x is y:\", x is y)\n",
        "print(\"x is z:\", x is z)\n",
        "print(\"x is not z:\", x is not z)"
      ],
      "execution_count": 59,
      "outputs": [
        {
          "output_type": "stream",
          "name": "stdout",
          "text": [
            "x is y: True\n",
            "x is z: False\n",
            "x is not z: True\n"
          ]
        }
      ],
      "id": "dKOppoQI25XM"
    },
    {
      "cell_type": "markdown",
      "source": [
        "#### 2.1.3 Enums"
      ],
      "metadata": {
        "id": "uG_43xlWpno5"
      },
      "id": "uG_43xlWpno5"
    },
    {
      "cell_type": "markdown",
      "source": [
        "In Python, enum (enumeration) is a way to define named constant values."
      ],
      "metadata": {
        "id": "34YMp2Ietdpo"
      },
      "id": "34YMp2Ietdpo"
    },
    {
      "cell_type": "code",
      "source": [
        "from enum import Enum\n",
        "\n",
        "class Color(Enum):\n",
        "    RED = 1\n",
        "    GREEN = 2\n",
        "    BLUE = 3\n",
        "\n",
        "print(Color.RED)        # Color.RED\n",
        "print(Color.RED.name)   # 'RED'\n",
        "print(Color.RED.value)  # 1"
      ],
      "metadata": {
        "colab": {
          "base_uri": "https://localhost:8080/"
        },
        "id": "xqZS-giFtmwD",
        "outputId": "3e2a9ba5-5d33-4398-ca0c-d76ee5ebd0a9"
      },
      "id": "xqZS-giFtmwD",
      "execution_count": 60,
      "outputs": [
        {
          "output_type": "stream",
          "name": "stdout",
          "text": [
            "Color.RED\n",
            "RED\n",
            "1\n"
          ]
        }
      ]
    },
    {
      "cell_type": "markdown",
      "source": [
        "#### 2.1.4 User Input"
      ],
      "metadata": {
        "id": "ywLzDhVUudg-"
      },
      "id": "ywLzDhVUudg-"
    },
    {
      "cell_type": "code",
      "source": [
        "name = input(\"Enter your name: \")\n",
        "print(\"Hello,\", name)"
      ],
      "metadata": {
        "colab": {
          "base_uri": "https://localhost:8080/"
        },
        "id": "VwQsj_Hsuw4y",
        "outputId": "6b84bcc3-329e-4f98-8610-cfba744122c6"
      },
      "id": "VwQsj_Hsuw4y",
      "execution_count": 61,
      "outputs": [
        {
          "output_type": "stream",
          "name": "stdout",
          "text": [
            "Enter your name: Tiago\n",
            "Hello, Tiago\n"
          ]
        }
      ]
    },
    {
      "cell_type": "markdown",
      "source": [
        "In Python, user input is taken using the built-in input() function."
      ],
      "metadata": {
        "id": "MC8p47IdulTJ"
      },
      "id": "MC8p47IdulTJ"
    },
    {
      "cell_type": "markdown",
      "source": [
        "### 2.2 Conditional and Looping Structures"
      ],
      "metadata": {
        "id": "4qfsl0y5j7Se"
      },
      "id": "4qfsl0y5j7Se"
    },
    {
      "cell_type": "markdown",
      "source": [
        "#### 2.2.1 Conditional Structures"
      ],
      "metadata": {
        "id": "Ek0BUv6uk4f2"
      },
      "id": "Ek0BUv6uk4f2"
    },
    {
      "cell_type": "markdown",
      "source": [
        "##### 2.2.1.1 if / elif / else"
      ],
      "metadata": {
        "id": "MH5p085Jm0b9"
      },
      "id": "MH5p085Jm0b9"
    },
    {
      "cell_type": "markdown",
      "source": [
        "Used to make decisions in the code based on conditions."
      ],
      "metadata": {
        "id": "76cLck6XlBLs"
      },
      "id": "76cLck6XlBLs"
    },
    {
      "cell_type": "code",
      "source": [
        "age = 18\n",
        "\n",
        "if age >= 18:\n",
        "    print(\"Adult\")\n",
        "else:\n",
        "    print(\"Minor\")"
      ],
      "metadata": {
        "colab": {
          "base_uri": "https://localhost:8080/"
        },
        "id": "dbf_EBI1lBuL",
        "outputId": "a0277778-5a31-41e7-ed9e-dac227c6e811"
      },
      "id": "dbf_EBI1lBuL",
      "execution_count": 62,
      "outputs": [
        {
          "output_type": "stream",
          "name": "stdout",
          "text": [
            "Adult\n"
          ]
        }
      ]
    },
    {
      "cell_type": "markdown",
      "source": [
        "##### 2.2.2.2 match/case"
      ],
      "metadata": {
        "id": "n5CNgJTTm9_R"
      },
      "id": "n5CNgJTTm9_R"
    },
    {
      "cell_type": "markdown",
      "source": [
        "It's look like switch case:"
      ],
      "metadata": {
        "id": "FT0vG88BnLu5"
      },
      "id": "FT0vG88BnLu5"
    },
    {
      "cell_type": "code",
      "source": [
        "command = \"b\"\n",
        "\n",
        "match command:\n",
        "    case \"a\":\n",
        "        print(\"Option A\")\n",
        "    case \"b\":\n",
        "        print(\"Option B\")\n",
        "    case \"c\":\n",
        "        print(\"Option C\")\n",
        "    case _:\n",
        "        print(\"Invalid Option\")"
      ],
      "metadata": {
        "colab": {
          "base_uri": "https://localhost:8080/"
        },
        "id": "k9EE_fg4nR4h",
        "outputId": "b5bd6e67-0fb9-46d0-ac52-df2f9df72376"
      },
      "id": "k9EE_fg4nR4h",
      "execution_count": 63,
      "outputs": [
        {
          "output_type": "stream",
          "name": "stdout",
          "text": [
            "Option B\n"
          ]
        }
      ]
    },
    {
      "cell_type": "markdown",
      "source": [
        "#### 2.2.2 Looping Structures"
      ],
      "metadata": {
        "id": "WZfNXzEWlsmJ"
      },
      "id": "WZfNXzEWlsmJ"
    },
    {
      "cell_type": "markdown",
      "source": [
        "Used to repeat a block of code multiple times. In Python, the two main types are:"
      ],
      "metadata": {
        "id": "ooKISvFtl5Yl"
      },
      "id": "ooKISvFtl5Yl"
    },
    {
      "cell_type": "markdown",
      "source": [
        "##### 2.2.2.1 for loop"
      ],
      "metadata": {
        "id": "WGmoYv9Il7xA"
      },
      "id": "WGmoYv9Il7xA"
    },
    {
      "cell_type": "markdown",
      "source": [
        "Iterates over sequences (lists, strings, ranges, etc.)."
      ],
      "metadata": {
        "id": "GWZqvouAmFKA"
      },
      "id": "GWZqvouAmFKA"
    },
    {
      "cell_type": "code",
      "source": [
        "for i in range(5):\n",
        "    print(i)  # Prints 0 to 4\n"
      ],
      "metadata": {
        "colab": {
          "base_uri": "https://localhost:8080/"
        },
        "id": "nYWAT1zOlln0",
        "outputId": "6d36922c-d603-4ea1-8019-8d7d76750e09"
      },
      "id": "nYWAT1zOlln0",
      "execution_count": 64,
      "outputs": [
        {
          "output_type": "stream",
          "name": "stdout",
          "text": [
            "0\n",
            "1\n",
            "2\n",
            "3\n",
            "4\n"
          ]
        }
      ]
    },
    {
      "cell_type": "code",
      "source": [
        "mylist = [1, 'a', 'Hello']\n",
        "\n",
        "# Loop over the list\n",
        "for item in mylist:\n",
        "    print(item)"
      ],
      "metadata": {
        "colab": {
          "base_uri": "https://localhost:8080/"
        },
        "id": "QOD70_ZBmhgh",
        "outputId": "b2de8b18-4d08-44d3-92c9-eeb76a150492"
      },
      "id": "QOD70_ZBmhgh",
      "execution_count": 65,
      "outputs": [
        {
          "output_type": "stream",
          "name": "stdout",
          "text": [
            "1\n",
            "a\n",
            "Hello\n"
          ]
        }
      ]
    },
    {
      "cell_type": "markdown",
      "source": [],
      "metadata": {
        "id": "3J1vZsIamhEy"
      },
      "id": "3J1vZsIamhEy"
    },
    {
      "cell_type": "markdown",
      "source": [
        "#### 2.2.2.2 while loop"
      ],
      "metadata": {
        "id": "XQgNGhKBmJqB"
      },
      "id": "XQgNGhKBmJqB"
    },
    {
      "cell_type": "markdown",
      "source": [
        "Repeats as long as a condition is true."
      ],
      "metadata": {
        "id": "itJk6xZJmOcx"
      },
      "id": "itJk6xZJmOcx"
    },
    {
      "cell_type": "code",
      "source": [
        "counter = 0\n",
        "while counter < 5:\n",
        "    print(counter)\n",
        "    counter += 1"
      ],
      "metadata": {
        "colab": {
          "base_uri": "https://localhost:8080/"
        },
        "id": "yFC_vKtZmG_z",
        "outputId": "96860abf-f2fa-4d7f-a768-7d4a8e1aa56e"
      },
      "id": "yFC_vKtZmG_z",
      "execution_count": 66,
      "outputs": [
        {
          "output_type": "stream",
          "name": "stdout",
          "text": [
            "0\n",
            "1\n",
            "2\n",
            "3\n",
            "4\n"
          ]
        }
      ]
    },
    {
      "cell_type": "markdown",
      "source": [
        "### 2.3 Functions"
      ],
      "metadata": {
        "id": "LmKH3qudn5hI"
      },
      "id": "LmKH3qudn5hI"
    },
    {
      "cell_type": "markdown",
      "source": [
        "A Python function can be defined once and used many times. So it aids in code reuse: you don’t want to write the same code more than once.\n",
        "\n",
        "Functions are a great way to keep your code short, concise, and readable. By giving a function a well-chosen name, your code will become even more readable because the function name directly explains what will happen. This way, others (or future you) can read your code, and without looking at all of it, understand what it’s doing anyway because of the well-chosen function names."
      ],
      "metadata": {
        "id": "ftdSIT5Yxgqq"
      },
      "id": "ftdSIT5Yxgqq"
    },
    {
      "cell_type": "code",
      "source": [
        "def say_hi(name = \"earth\"):\n",
        "    print('Hi, ' + name)\n",
        "\n",
        "print(\"Let's greet the entire world\")\n",
        "say_hi('world')\n",
        "say_hi()"
      ],
      "metadata": {
        "colab": {
          "base_uri": "https://localhost:8080/"
        },
        "id": "5OAIsMsCn9zz",
        "outputId": "8bce2689-1b43-42d6-84f7-0eb0397766d6"
      },
      "id": "5OAIsMsCn9zz",
      "execution_count": 67,
      "outputs": [
        {
          "output_type": "stream",
          "name": "stdout",
          "text": [
            "Let's greet the entire world\n",
            "Hi, world\n",
            "Hi, earth\n"
          ]
        }
      ]
    },
    {
      "cell_type": "markdown",
      "source": [
        "### 2.4 Comments"
      ],
      "metadata": {
        "id": "eSX62uBEyGF-"
      },
      "id": "eSX62uBEyGF-"
    },
    {
      "cell_type": "markdown",
      "source": [
        "A Python comment is an explanation in the source code of a Python program. It doesn’t do anything besides being informative and is ignored by the Python interpreter."
      ],
      "metadata": {
        "id": "Jxp3zQxqybAz"
      },
      "id": "Jxp3zQxqybAz"
    },
    {
      "cell_type": "code",
      "source": [
        "# This is a single-line comment in Python\n",
        "print('Hello')\n",
        "# And here's another one!"
      ],
      "metadata": {
        "colab": {
          "base_uri": "https://localhost:8080/"
        },
        "id": "lAZBp1rCyase",
        "outputId": "3e880fdf-2597-4160-fe8a-5ab9ec8b87a7"
      },
      "id": "lAZBp1rCyase",
      "execution_count": 68,
      "outputs": [
        {
          "output_type": "stream",
          "name": "stdout",
          "text": [
            "Hello\n"
          ]
        }
      ]
    },
    {
      "cell_type": "markdown",
      "source": [
        "## 3.Objects and Classes"
      ],
      "metadata": {
        "id": "fdzlEGWv1JTc"
      },
      "id": "fdzlEGWv1JTc"
    },
    {
      "cell_type": "markdown",
      "source": [
        "### 3.1 Objects"
      ],
      "metadata": {
        "id": "d5qdsPFD2-GF"
      },
      "id": "d5qdsPFD2-GF"
    },
    {
      "cell_type": "markdown",
      "source": [
        "An object is an instance of a class that has:\n",
        "\n",
        "\n",
        "*   Data (attributes): Variables that belong to the object;\n",
        "*   Behavior (methods): Functions that belong to the object."
      ],
      "metadata": {
        "id": "pllgi_IU3UdB"
      },
      "id": "pllgi_IU3UdB"
    },
    {
      "cell_type": "code",
      "source": [
        "x = 5\n",
        "print(type(x))  # <class 'int'>\n"
      ],
      "metadata": {
        "colab": {
          "base_uri": "https://localhost:8080/"
        },
        "id": "VK5ZMMCbyf7F",
        "outputId": "4b84d6bd-5d82-41fb-d701-c093f277178c"
      },
      "id": "VK5ZMMCbyf7F",
      "execution_count": 69,
      "outputs": [
        {
          "output_type": "stream",
          "name": "stdout",
          "text": [
            "<class 'int'>\n"
          ]
        }
      ]
    },
    {
      "cell_type": "markdown",
      "source": [
        "Here, x is an object of class int."
      ],
      "metadata": {
        "id": "vPyMDNLY3ecR"
      },
      "id": "vPyMDNLY3ecR"
    },
    {
      "cell_type": "markdown",
      "source": [
        "### 3.2 Classes"
      ],
      "metadata": {
        "id": "oAlVN9qX3hZ2"
      },
      "id": "oAlVN9qX3hZ2"
    },
    {
      "cell_type": "markdown",
      "source": [
        "In Python, classes are blueprints for creating objects (instances). They define attributes (data) and methods (functions) that describe the behavior of those objects."
      ],
      "metadata": {
        "id": "7yvGz7U14Wda"
      },
      "id": "7yvGz7U14Wda"
    },
    {
      "cell_type": "code",
      "source": [
        "class Person:\n",
        "    def __init__(self, name, age):  # Constructor\n",
        "        self.name = name            # Attribute\n",
        "        self.age = age\n",
        "\n",
        "    def greet(self):                # Method\n",
        "        print(f\"Hello, my name is {self.name} and I am {self.age} years old.\")\n",
        "\n",
        "# Creating an object (instance)\n",
        "p1 = Person(\"Tiago\", 30)\n",
        "p1.greet()  # Calls the greet method"
      ],
      "metadata": {
        "colab": {
          "base_uri": "https://localhost:8080/"
        },
        "id": "yizgk7rY3cOk",
        "outputId": "b0cfdfed-ca0a-4f76-caec-75640eca7ef6"
      },
      "id": "yizgk7rY3cOk",
      "execution_count": 70,
      "outputs": [
        {
          "output_type": "stream",
          "name": "stdout",
          "text": [
            "Hello, my name is Tiago and I am 30 years old.\n"
          ]
        }
      ]
    },
    {
      "cell_type": "code",
      "source": [
        "class Car:\n",
        "    speed = 0\n",
        "    started = False\n",
        "\n",
        "    def start(self):\n",
        "        self.started = True\n",
        "        print(\"Car started, let's ride!\")\n",
        "\n",
        "    def increase_speed(self, delta):\n",
        "        if self.started:\n",
        "            self.speed = self.speed + delta\n",
        "            print('Vrooooom!')\n",
        "        else:\n",
        "            print(\"You need to start the car first\")\n",
        "\n",
        "    def stop(self):\n",
        "        self.speed = 0\n",
        "        print('Halting')\n",
        "\n",
        "\n",
        "car = Car()\n",
        "car.increase_speed(10)\n",
        "car.start()\n",
        "car.increase_speed(40)"
      ],
      "metadata": {
        "colab": {
          "base_uri": "https://localhost:8080/"
        },
        "id": "ABJ-ZUsi4YIc",
        "outputId": "91c6f01b-4381-4362-b607-bb5fbe2c8c31"
      },
      "id": "ABJ-ZUsi4YIc",
      "execution_count": 71,
      "outputs": [
        {
          "output_type": "stream",
          "name": "stdout",
          "text": [
            "You need to start the car first\n",
            "Car started, let's ride!\n",
            "Vrooooom!\n"
          ]
        }
      ]
    },
    {
      "cell_type": "markdown",
      "source": [
        "#### 3.2.1 Inheritance"
      ],
      "metadata": {
        "id": "ZTb-Xce14tEA"
      },
      "id": "ZTb-Xce14tEA"
    },
    {
      "cell_type": "markdown",
      "source": [
        "Classes can inherit properties and functions from other classes, so you don’t have to repeat yourself.  Say, for example, we want our Car class to inherit some more generic functions and variables from a Vehicle class. While we’re at it, let’s also define a Motorcycle class. Schematically, it looks like this:\n",
        "\n",
        "<img src=\"https://github.com/CedigTiagoSerra/Journaling/blob/main/resources/img/class-inheritance.png?raw=true\" width=\"350\" />"
      ],
      "metadata": {
        "id": "cERMroud42K9"
      },
      "id": "cERMroud42K9"
    },
    {
      "cell_type": "code",
      "source": [
        "class Vehicle:\n",
        "    def __init__(self, started = False, speed = 0):\n",
        "        self.started = started\n",
        "        self.speed = speed\n",
        "    def start(self):\n",
        "        self.started = True\n",
        "        print(\"Started, let's ride!\")\n",
        "    def stop(self):\n",
        "        self.speed = 0\n",
        "    def increase_speed(self, delta):\n",
        "        if self.started:\n",
        "            self.speed = self.speed + delta\n",
        "            print(\"Vrooooom!\")\n",
        "        else:\n",
        "            print(\"You need to start me first\")"
      ],
      "metadata": {
        "id": "JGDTUfEf40S4"
      },
      "id": "JGDTUfEf40S4",
      "execution_count": 72,
      "outputs": []
    },
    {
      "cell_type": "code",
      "source": [
        "class Car(Vehicle):\n",
        "    trunk_open = False\n",
        "    def open_trunk(self):\n",
        "        self.trunk_open = True\n",
        "    def close_trunk(self):\n",
        "        self.trunk_open = False"
      ],
      "metadata": {
        "id": "jZ5U7Pr35e4J"
      },
      "id": "jZ5U7Pr35e4J",
      "execution_count": 73,
      "outputs": []
    },
    {
      "cell_type": "code",
      "source": [
        "car = Car()\n",
        "car.increase_speed(10)\n",
        "car.open_trunk()\n",
        "print(car.trunk_open)\n",
        "car.close_trunk()\n",
        "print(car.trunk_open)\n",
        "car.start()\n",
        "car.increase_speed(40)"
      ],
      "metadata": {
        "colab": {
          "base_uri": "https://localhost:8080/"
        },
        "id": "X7OkD_Uy5gZb",
        "outputId": "50a84633-dd98-47b0-ba66-90f01d7599f3"
      },
      "id": "X7OkD_Uy5gZb",
      "execution_count": 74,
      "outputs": [
        {
          "output_type": "stream",
          "name": "stdout",
          "text": [
            "You need to start me first\n",
            "True\n",
            "False\n",
            "Started, let's ride!\n",
            "Vrooooom!\n"
          ]
        }
      ]
    },
    {
      "cell_type": "markdown",
      "source": [
        "#### 3.2.2 Super()"
      ],
      "metadata": {
        "id": "H07ZKYSr-KTN"
      },
      "id": "H07ZKYSr-KTN"
    },
    {
      "cell_type": "markdown",
      "source": [
        "super() is used in classes that use inheritance. It lets a child class call methods (usually __init__) from its parent class without hardcoding the parent’s name.\n",
        "\n",
        "Think of it like:\n",
        "\n",
        "*   Parent class = basic recipe;\n",
        "*   Child class = recipe with extras;\n",
        "*   super() = reuse the basic recipe, then add extras."
      ],
      "metadata": {
        "id": "zGOLQJum-Pa_"
      },
      "id": "zGOLQJum-Pa_"
    },
    {
      "cell_type": "code",
      "source": [
        "## PARENT CLASS\n",
        "\n",
        "class Character:\n",
        "    def __init__(self, name, health):\n",
        "        self.name = name\n",
        "        self.health = health\n",
        "\n",
        "    def status(self):\n",
        "        print(f\"{self.name} has {self.health} health.\")"
      ],
      "metadata": {
        "id": "m2pT--PD7Cvi"
      },
      "id": "m2pT--PD7Cvi",
      "execution_count": 75,
      "outputs": []
    },
    {
      "cell_type": "code",
      "source": [
        "## CHILD CLASS\n",
        "\n",
        "class Wizard(Character):\n",
        "    def __init__(self, name, health, mana):\n",
        "        super().__init__(name, health)  # Initialize parent part\n",
        "        self.mana = mana\n",
        "\n",
        "    def status(self):\n",
        "        super().status()  # Call parent method\n",
        "        print(f\"Mana: {self.mana}\")"
      ],
      "metadata": {
        "id": "_BRseoAu-d5f"
      },
      "id": "_BRseoAu-d5f",
      "execution_count": 76,
      "outputs": []
    },
    {
      "cell_type": "code",
      "source": [
        "gandalf = Wizard(\"Gandalf\", 100, 200)\n",
        "gandalf.status()\n"
      ],
      "metadata": {
        "colab": {
          "base_uri": "https://localhost:8080/"
        },
        "id": "JxHMZBUa-jPO",
        "outputId": "2aa90332-1525-4e76-b585-13232a8f0b26"
      },
      "id": "JxHMZBUa-jPO",
      "execution_count": 77,
      "outputs": [
        {
          "output_type": "stream",
          "name": "stdout",
          "text": [
            "Gandalf has 100 health.\n",
            "Mana: 200\n"
          ]
        }
      ]
    },
    {
      "cell_type": "markdown",
      "source": [
        "## 4.Modules"
      ],
      "metadata": {
        "id": "0omyg2Dad1-j"
      },
      "id": "0omyg2Dad1-j"
    },
    {
      "cell_type": "markdown",
      "source": [
        "If you create a single Python file to perform some tasks, that’s called a script. If you create a Python file to store functions, classes, and other definitions, that’s called a module. We use modules by importing from them using the Python import statement."
      ],
      "metadata": {
        "id": "lERwhjlZd_u7"
      },
      "id": "lERwhjlZd_u7"
    },
    {
      "cell_type": "code",
      "source": [
        "import sys\n",
        "sys.path.append(\"lib\")\n",
        "from lib import dog\n",
        "dog.bark()"
      ],
      "metadata": {
        "colab": {
          "base_uri": "https://localhost:8080/"
        },
        "id": "7yJfNGSKebkL",
        "outputId": "cde86f2b-8e83-4de9-be3d-1ef2d3a83921"
      },
      "id": "7yJfNGSKebkL",
      "execution_count": 1,
      "outputs": [
        {
          "output_type": "stream",
          "name": "stdout",
          "text": [
            "woof!\n"
          ]
        }
      ]
    },
    {
      "cell_type": "markdown",
      "source": [
        "## 5.Annotations"
      ],
      "metadata": {
        "id": "wbxCK9jxkGXJ"
      },
      "id": "wbxCK9jxkGXJ"
    },
    {
      "cell_type": "markdown",
      "source": [
        "In Python, annotations are a way to attach metadata to variables, function parameters, and return types. They are most commonly used for type hints, but you can use them for other purposes as well."
      ],
      "metadata": {
        "id": "q4YHsXodkJCb"
      },
      "id": "q4YHsXodkJCb"
    },
    {
      "cell_type": "code",
      "source": [
        "def greet(name: str, age: int) -> str:\n",
        "    return f\"Hello {name}, you are {age} years old.\"\n",
        "\n",
        "greet('Tiago', 35)"
      ],
      "metadata": {
        "colab": {
          "base_uri": "https://localhost:8080/",
          "height": 35
        },
        "id": "c7GEzUOCe2Yg",
        "outputId": "95475eaf-06cd-438d-f79c-fa71365a3bd6"
      },
      "id": "c7GEzUOCe2Yg",
      "execution_count": 5,
      "outputs": [
        {
          "output_type": "execute_result",
          "data": {
            "text/plain": [
              "'Hello Tiago, you are 35 years old.'"
            ],
            "application/vnd.google.colaboratory.intrinsic+json": {
              "type": "string"
            }
          },
          "metadata": {},
          "execution_count": 5
        }
      ]
    },
    {
      "cell_type": "code",
      "source": [
        "class Dog:\n",
        "    name: str\n",
        "    age: int\n",
        "\n",
        "    def __init__(self, name: str, age: int) -> None:\n",
        "        self.name = name\n",
        "        self.age = age\n",
        "\n",
        "    def bark(self) -> str:\n",
        "        return \"Woof!\"\n",
        "tareco = Dog(\"Tareco\", 2)\n",
        "print(f\"Dog name {tareco.name}, {tareco.age} years old.\")\n",
        "tareco.bark()"
      ],
      "metadata": {
        "id": "noz5TyfTkNeZ",
        "outputId": "2a7e5090-c204-4789-f45e-d9b22d958f6f",
        "colab": {
          "base_uri": "https://localhost:8080/",
          "height": 53
        }
      },
      "id": "noz5TyfTkNeZ",
      "execution_count": 12,
      "outputs": [
        {
          "output_type": "stream",
          "name": "stdout",
          "text": [
            "Dog name Tareco, 2 years old.\n"
          ]
        },
        {
          "output_type": "execute_result",
          "data": {
            "text/plain": [
              "'Woof!'"
            ],
            "application/vnd.google.colaboratory.intrinsic+json": {
              "type": "string"
            }
          },
          "metadata": {},
          "execution_count": 12
        }
      ]
    },
    {
      "cell_type": "markdown",
      "source": [
        "## 6.Exceptions"
      ],
      "metadata": {
        "id": "8tDg1-NalJ-9"
      },
      "id": "8tDg1-NalJ-9"
    },
    {
      "cell_type": "markdown",
      "source": [
        "In Python, exceptions are errors that occur during program execution. When something unexpected happens (e.g., dividing by zero, file not found), Python raises an exception. If you don’t handle it, the program will stop with an error."
      ],
      "metadata": {
        "id": "rAlZlerMlXMr"
      },
      "id": "rAlZlerMlXMr"
    },
    {
      "cell_type": "code",
      "source": [
        "try:\n",
        "    num = int(input(\"Enter a number: \"))\n",
        "    print(10 / num)\n",
        "except ZeroDivisionError:\n",
        "    print(\"Cannot divide by zero!\")\n",
        "else:\n",
        "    print(\"No errors occurred.\")\n",
        "finally:\n",
        "    print(\"Execution finished.\")"
      ],
      "metadata": {
        "id": "FlLvAiXDkf05",
        "outputId": "4a5037ed-c119-4db5-89e9-c2239c3dbeee",
        "colab": {
          "base_uri": "https://localhost:8080/"
        }
      },
      "id": "FlLvAiXDkf05",
      "execution_count": 13,
      "outputs": [
        {
          "output_type": "stream",
          "name": "stdout",
          "text": [
            "Enter a number: 0\n",
            "Cannot divide by zero!\n",
            "Execution finished.\n"
          ]
        }
      ]
    },
    {
      "cell_type": "markdown",
      "source": [
        "## 7.Pip"
      ],
      "metadata": {
        "id": "Mqd2t8wrmF0j"
      },
      "id": "Mqd2t8wrmF0j"
    },
    {
      "cell_type": "markdown",
      "source": [
        "pip is the default package manager for Python. It allows you to install, upgrade, and manage external libraries and packages from [PyPI (Python Package Index)](https://pypi.org/)"
      ],
      "metadata": {
        "id": "CE1zmFfkmOWr"
      },
      "id": "CE1zmFfkmOWr"
    },
    {
      "cell_type": "code",
      "source": [
        "pip --version"
      ],
      "metadata": {
        "id": "gOomygIXlhIp",
        "outputId": "68c09ece-c536-47cf-f696-8b3958b52672",
        "colab": {
          "base_uri": "https://localhost:8080/"
        }
      },
      "id": "gOomygIXlhIp",
      "execution_count": 14,
      "outputs": [
        {
          "output_type": "stream",
          "name": "stdout",
          "text": [
            "pip 24.1.2 from /usr/local/lib/python3.11/dist-packages/pip (python 3.11)\n"
          ]
        }
      ]
    },
    {
      "cell_type": "code",
      "source": [
        "pip install requests"
      ],
      "metadata": {
        "id": "iqhBTjFymXDZ",
        "outputId": "a34173f1-6bcf-4d16-8a0e-69306729c233",
        "colab": {
          "base_uri": "https://localhost:8080/"
        }
      },
      "id": "iqhBTjFymXDZ",
      "execution_count": 15,
      "outputs": [
        {
          "output_type": "stream",
          "name": "stdout",
          "text": [
            "Requirement already satisfied: requests in /usr/local/lib/python3.11/dist-packages (2.32.3)\n",
            "Requirement already satisfied: charset-normalizer<4,>=2 in /usr/local/lib/python3.11/dist-packages (from requests) (3.4.2)\n",
            "Requirement already satisfied: idna<4,>=2.5 in /usr/local/lib/python3.11/dist-packages (from requests) (3.10)\n",
            "Requirement already satisfied: urllib3<3,>=1.21.1 in /usr/local/lib/python3.11/dist-packages (from requests) (2.5.0)\n",
            "Requirement already satisfied: certifi>=2017.4.17 in /usr/local/lib/python3.11/dist-packages (from requests) (2025.7.14)\n"
          ]
        }
      ]
    },
    {
      "cell_type": "markdown",
      "source": [
        "## 8.Project Examples"
      ],
      "metadata": {
        "id": "ATuZinz4nWzA"
      },
      "id": "ATuZinz4nWzA"
    },
    {
      "cell_type": "code",
      "source": [
        "pip install colorama"
      ],
      "metadata": {
        "id": "dycz3_cYmgQi",
        "outputId": "89459b58-ceac-4ef7-e913-2978f7bd3582",
        "colab": {
          "base_uri": "https://localhost:8080/"
        }
      },
      "id": "dycz3_cYmgQi",
      "execution_count": 5,
      "outputs": [
        {
          "output_type": "stream",
          "name": "stdout",
          "text": [
            "Collecting colorama\n",
            "  Downloading colorama-0.4.6-py2.py3-none-any.whl.metadata (17 kB)\n",
            "Downloading colorama-0.4.6-py2.py3-none-any.whl (25 kB)\n",
            "Installing collected packages: colorama\n",
            "Successfully installed colorama-0.4.6\n"
          ]
        }
      ]
    },
    {
      "cell_type": "code",
      "source": [
        "import sys\n",
        "sys.path.append(\"lib\")\n",
        "from lib.cat import Cat\n",
        "\n",
        "cat = Cat(\"Whiskers\", \"white\")\n",
        "cat.meow()\n",
        "cat.scratch()"
      ],
      "metadata": {
        "id": "hNcoG3HPn3Ah",
        "outputId": "d642b887-db55-477a-9e68-00c4b050f2ba",
        "colab": {
          "base_uri": "https://localhost:8080/"
        }
      },
      "id": "hNcoG3HPn3Ah",
      "execution_count": 9,
      "outputs": [
        {
          "output_type": "stream",
          "name": "stdout",
          "text": [
            "\u001b[36mWhiskers the white cat says: Meow!\n",
            "\u001b[31mWhiskers scratches the furniture!\n"
          ]
        }
      ]
    },
    {
      "cell_type": "markdown",
      "source": [
        "## 9.Links"
      ],
      "metadata": {
        "id": "ifG-QqfootXp"
      },
      "id": "ifG-QqfootXp"
    },
    {
      "cell_type": "markdown",
      "source": [],
      "metadata": {
        "id": "8eyTbJ2No2LN"
      },
      "id": "8eyTbJ2No2LN"
    },
    {
      "cell_type": "markdown",
      "source": [
        "https://www.youtube.com/watch?v=eWRfhZUzrAc\n",
        "\n",
        "https://python.land/virtual-environments"
      ],
      "metadata": {
        "id": "29a66H03o343"
      },
      "id": "29a66H03o343"
    },
    {
      "cell_type": "code",
      "source": [],
      "metadata": {
        "id": "7ZQPWZh0o4QR"
      },
      "id": "7ZQPWZh0o4QR",
      "execution_count": null,
      "outputs": []
    }
  ]
}