{
  "nbformat": 4,
  "nbformat_minor": 0,
  "metadata": {
    "colab": {
      "provenance": [],
      "toc_visible": true,
      "authorship_tag": "ABX9TyMIx3VtZM5RvcCy92NNDjCj",
      "include_colab_link": true
    },
    "kernelspec": {
      "name": "python3",
      "display_name": "Python 3"
    },
    "language_info": {
      "name": "python"
    }
  },
  "cells": [
    {
      "cell_type": "markdown",
      "metadata": {
        "id": "view-in-github",
        "colab_type": "text"
      },
      "source": [
        "<a href=\"https://colab.research.google.com/github/CedigTiagoSerra/Journaling/blob/main/Python.ipynb\" target=\"_parent\"><img src=\"https://colab.research.google.com/assets/colab-badge.svg\" alt=\"Open In Colab\"/></a>"
      ]
    },
    {
      "cell_type": "markdown",
      "source": [
        "# Python"
      ],
      "metadata": {
        "id": "O6xCRfmhiKKF"
      }
    },
    {
      "cell_type": "markdown",
      "source": [
        "## 1.History of Python"
      ],
      "metadata": {
        "id": "s5-IE37niPJj"
      }
    },
    {
      "cell_type": "markdown",
      "source": [
        "Python was created in 1989 by Guido van Rossum at CWI in the Netherlands as a simple, readable programming language that combined the power of C with the ease of shell scripting. It was released publicly in 1991 as Python 1.0, followed by Python 2.0 in 2000, which introduced features like list comprehensions and Unicode, but was officially discontinued in 2020. Python 3.0, launched in 2008, fixed design flaws and is the version widely used today. The name “Python” was inspired not by the snake, but by the British comedy show “Monty Python’s Flying Circus”, which Guido enjoyed and wanted the language to reflect — being fun and approachable as well as powerful.\n",
        "\n",
        "**Infographic of Python’s history:**\n",
        "\n",
        "<img src=\"https://raw.githubusercontent.com/CedigTiagoSerra/Journaling/refs/heads/main/resources/img/python_history.png\" width=\"350\" />"
      ],
      "metadata": {
        "id": "gFMjV7bUiW4N"
      }
    },
    {
      "cell_type": "markdown",
      "source": [
        "## 2.Introduction to Python"
      ],
      "metadata": {
        "id": "IQ0WFkpwL83L"
      }
    },
    {
      "cell_type": "markdown",
      "source": [
        "### 2.1 Variables and Operators"
      ],
      "metadata": {
        "id": "nef7zkfWMTI6"
      }
    },
    {
      "cell_type": "markdown",
      "source": [
        "A variable is used to store information that can be referenced later on."
      ],
      "metadata": {
        "id": "sbWtdSK1O-eF"
      }
    },
    {
      "cell_type": "code",
      "source": [
        "result = 3 * 5\n",
        "result"
      ],
      "metadata": {
        "colab": {
          "base_uri": "https://localhost:8080/"
        },
        "id": "jPFPXco0MRY6",
        "outputId": "55b58020-0175-4ce2-c872-8ba74883fd9b"
      },
      "execution_count": 2,
      "outputs": [
        {
          "output_type": "execute_result",
          "data": {
            "text/plain": [
              "15"
            ]
          },
          "metadata": {},
          "execution_count": 2
        }
      ]
    },
    {
      "cell_type": "markdown",
      "source": [
        "#### 2.1.1 Python data types"
      ],
      "metadata": {
        "id": "W4X34KfxQwo8"
      }
    },
    {
      "cell_type": "markdown",
      "source": [
        "##### 2.1.1.1 Integer"
      ],
      "metadata": {
        "id": "iICHM5OCRBbc"
      }
    },
    {
      "cell_type": "markdown",
      "source": [
        "The Python integer is a non-fractional number, like 1, 2, 45, -1, -2, and -100. It’s one of the three types of numbers."
      ],
      "metadata": {
        "id": "OafW8xflReY9"
      }
    },
    {
      "cell_type": "code",
      "source": [
        "integer = 98762345098709872345000\n",
        "integer + 1\n",
        "integer"
      ],
      "metadata": {
        "colab": {
          "base_uri": "https://localhost:8080/"
        },
        "id": "8KkJi4PTPGFG",
        "outputId": "ec54423d-2da5-4e70-cd51-c42501311a4a"
      },
      "execution_count": 36,
      "outputs": [
        {
          "output_type": "execute_result",
          "data": {
            "text/plain": [
              "98762345098709872345000"
            ]
          },
          "metadata": {},
          "execution_count": 36
        }
      ]
    },
    {
      "cell_type": "code",
      "source": [
        "# String to integer\n",
        "int('100')"
      ],
      "metadata": {
        "colab": {
          "base_uri": "https://localhost:8080/"
        },
        "id": "TnfaBoWKQAYd",
        "outputId": "20b1c497-96be-4585-a03f-8dd8204a4656"
      },
      "execution_count": 37,
      "outputs": [
        {
          "output_type": "execute_result",
          "data": {
            "text/plain": [
              "100"
            ]
          },
          "metadata": {},
          "execution_count": 37
        }
      ]
    },
    {
      "cell_type": "code",
      "source": [
        "# Integer to string\n",
        "str(200)"
      ],
      "metadata": {
        "colab": {
          "base_uri": "https://localhost:8080/",
          "height": 0
        },
        "id": "KiCTHp35R_JN",
        "outputId": "b8a1b5d4-56c3-48c8-8ed0-8cfc323c4b78"
      },
      "execution_count": 38,
      "outputs": [
        {
          "output_type": "execute_result",
          "data": {
            "text/plain": [
              "'200'"
            ],
            "application/vnd.google.colaboratory.intrinsic+json": {
              "type": "string"
            }
          },
          "metadata": {},
          "execution_count": 38
        }
      ]
    },
    {
      "cell_type": "code",
      "source": [
        "# Float to integer\n",
        "int(2.3)"
      ],
      "metadata": {
        "colab": {
          "base_uri": "https://localhost:8080/"
        },
        "id": "9-lBfTe3SBRb",
        "outputId": "58262b7f-970c-46e3-92de-b3466771ad4c"
      },
      "execution_count": 39,
      "outputs": [
        {
          "output_type": "execute_result",
          "data": {
            "text/plain": [
              "2"
            ]
          },
          "metadata": {},
          "execution_count": 39
        }
      ]
    },
    {
      "cell_type": "code",
      "source": [
        "# Random\n",
        "import random\n",
        "random.randint(1,10)"
      ],
      "metadata": {
        "colab": {
          "base_uri": "https://localhost:8080/"
        },
        "id": "wpiQjqdJSJJj",
        "outputId": "b8fa2126-9b9d-472c-9c6b-4dd1dd05065f"
      },
      "execution_count": 40,
      "outputs": [
        {
          "output_type": "execute_result",
          "data": {
            "text/plain": [
              "9"
            ]
          },
          "metadata": {},
          "execution_count": 40
        }
      ]
    },
    {
      "cell_type": "markdown",
      "source": [
        "We can use the type() function to check if a value is an integer."
      ],
      "metadata": {
        "id": "37h05Vr1SuAY"
      }
    },
    {
      "cell_type": "code",
      "source": [
        "type(2)"
      ],
      "metadata": {
        "colab": {
          "base_uri": "https://localhost:8080/"
        },
        "id": "8YqqKU1XSmUX",
        "outputId": "b9714df4-77bb-4181-f27b-a108d360c08b"
      },
      "execution_count": 41,
      "outputs": [
        {
          "output_type": "execute_result",
          "data": {
            "text/plain": [
              "int"
            ]
          },
          "metadata": {},
          "execution_count": 41
        }
      ]
    },
    {
      "cell_type": "code",
      "source": [
        "if isinstance(2, int):\n",
        "  print('An integer')"
      ],
      "metadata": {
        "colab": {
          "base_uri": "https://localhost:8080/"
        },
        "id": "rNTCR5m6S4Eb",
        "outputId": "421a5669-c00e-4650-8752-9fafa7d1c85d"
      },
      "execution_count": 42,
      "outputs": [
        {
          "output_type": "stream",
          "name": "stdout",
          "text": [
            "An integer\n"
          ]
        }
      ]
    },
    {
      "cell_type": "code",
      "source": [],
      "metadata": {
        "id": "Xc0lTQE_S8Zp"
      },
      "execution_count": 42,
      "outputs": []
    },
    {
      "cell_type": "markdown",
      "source": [
        "##### 2.1.1.2 Float"
      ],
      "metadata": {
        "id": "PzHtuCC0TSZv"
      }
    },
    {
      "cell_type": "markdown",
      "source": [
        "A Python float is a numerical data type that represents a floating-point number."
      ],
      "metadata": {
        "id": "GmdqyTPkUtv1"
      }
    },
    {
      "cell_type": "code",
      "source": [
        "f = 1.45\n",
        "f"
      ],
      "metadata": {
        "colab": {
          "base_uri": "https://localhost:8080/"
        },
        "id": "4K3QPSiMUnsR",
        "outputId": "014432d1-3d45-4d5b-a0b3-f7c3cd579ed2"
      },
      "execution_count": 43,
      "outputs": [
        {
          "output_type": "execute_result",
          "data": {
            "text/plain": [
              "1.45"
            ]
          },
          "metadata": {},
          "execution_count": 43
        }
      ]
    },
    {
      "cell_type": "code",
      "source": [
        "f = float(2.0)\n",
        "f = float(2)\n",
        "f = float(\"2\")\n",
        "f"
      ],
      "metadata": {
        "colab": {
          "base_uri": "https://localhost:8080/"
        },
        "id": "7ohbfkh8U0Q9",
        "outputId": "80dd8183-ad32-405f-b220-fa1e637f7ff4"
      },
      "execution_count": 44,
      "outputs": [
        {
          "output_type": "execute_result",
          "data": {
            "text/plain": [
              "2.0"
            ]
          },
          "metadata": {},
          "execution_count": 44
        }
      ]
    },
    {
      "cell_type": "code",
      "source": [
        "f = 1.45e3\n",
        "f"
      ],
      "metadata": {
        "colab": {
          "base_uri": "https://localhost:8080/"
        },
        "id": "e43eFyrCU3YZ",
        "outputId": "14393a33-4c66-4c46-f4ed-b94835232201"
      },
      "execution_count": 45,
      "outputs": [
        {
          "output_type": "execute_result",
          "data": {
            "text/plain": [
              "1450.0"
            ]
          },
          "metadata": {},
          "execution_count": 45
        }
      ]
    },
    {
      "cell_type": "markdown",
      "source": [
        "**Round, floor, and upper**\n",
        "\n",
        "With floats, we often need to round numbers. For this, Python has the round function. The round function accepts two arguments: the number itself and an optional precision (the number of decimals). The default for this last number is 0, meaning that it will round to whole integers. Some examples:"
      ],
      "metadata": {
        "id": "AgDSmsrHVIyt"
      }
    },
    {
      "cell_type": "code",
      "source": [
        "f = 1.4567\n",
        "round(f)\n",
        "f"
      ],
      "metadata": {
        "colab": {
          "base_uri": "https://localhost:8080/"
        },
        "id": "5UopZb0uU6v6",
        "outputId": "c7f299bb-21cc-4c51-d86a-c5521e6e68cb"
      },
      "execution_count": 46,
      "outputs": [
        {
          "output_type": "execute_result",
          "data": {
            "text/plain": [
              "1.4567"
            ]
          },
          "metadata": {},
          "execution_count": 46
        }
      ]
    },
    {
      "cell_type": "code",
      "source": [
        "round(f, 2)"
      ],
      "metadata": {
        "colab": {
          "base_uri": "https://localhost:8080/"
        },
        "id": "JnOmRCT4VTR8",
        "outputId": "0a8120a4-2c93-48d9-d852-36b48ffdaa83"
      },
      "execution_count": 47,
      "outputs": [
        {
          "output_type": "execute_result",
          "data": {
            "text/plain": [
              "1.46"
            ]
          },
          "metadata": {},
          "execution_count": 47
        }
      ]
    },
    {
      "cell_type": "code",
      "source": [
        "f = 1.54\n",
        "round(f)"
      ],
      "metadata": {
        "colab": {
          "base_uri": "https://localhost:8080/"
        },
        "id": "lundWefzVWBR",
        "outputId": "32b2eed2-9686-40b2-bbaf-4100678b6899"
      },
      "execution_count": 48,
      "outputs": [
        {
          "output_type": "execute_result",
          "data": {
            "text/plain": [
              "2"
            ]
          },
          "metadata": {},
          "execution_count": 48
        }
      ]
    },
    {
      "cell_type": "code",
      "source": [
        "round(f, 1)"
      ],
      "metadata": {
        "colab": {
          "base_uri": "https://localhost:8080/"
        },
        "id": "fY4Fn-4QVbKv",
        "outputId": "c68b2105-4f11-4503-b9e5-7af366af2a79"
      },
      "execution_count": 49,
      "outputs": [
        {
          "output_type": "execute_result",
          "data": {
            "text/plain": [
              "1.5"
            ]
          },
          "metadata": {},
          "execution_count": 49
        }
      ]
    },
    {
      "cell_type": "code",
      "source": [
        "from math import floor, ceil\n",
        "# Round 1.23 down to the nearest integer\n",
        "x = floor(1.23)  # x will be 1\n",
        "x"
      ],
      "metadata": {
        "colab": {
          "base_uri": "https://localhost:8080/"
        },
        "id": "t822qGV5VdKZ",
        "outputId": "74df7098-d315-4a7e-96b6-d7bc0036ff2c"
      },
      "execution_count": 50,
      "outputs": [
        {
          "output_type": "execute_result",
          "data": {
            "text/plain": [
              "1"
            ]
          },
          "metadata": {},
          "execution_count": 50
        }
      ]
    },
    {
      "cell_type": "code",
      "source": [
        "from math import floor, ceil\n",
        "# Round 1.23 up to the nearest integer\n",
        "y = ceil(1.23)  # y will be 2\n",
        "y"
      ],
      "metadata": {
        "colab": {
          "base_uri": "https://localhost:8080/"
        },
        "id": "73HtkfYaYX2p",
        "outputId": "83997de4-c58d-4c58-8059-745972c58737"
      },
      "execution_count": 51,
      "outputs": [
        {
          "output_type": "execute_result",
          "data": {
            "text/plain": [
              "2"
            ]
          },
          "metadata": {},
          "execution_count": 51
        }
      ]
    },
    {
      "cell_type": "markdown",
      "source": [
        "##### 2.1.1.3 Tuple"
      ],
      "metadata": {
        "id": "iCmndfMCZB91"
      }
    },
    {
      "cell_type": "markdown",
      "source": [
        "In Python, a tuple is an ordered and immutable collection of elements.\n",
        "This means:\n",
        "*   Ordered → It preserves the order in which the items were added;\n",
        "*   Immutable → Once created, you cannot change, add, or remove elements;\n",
        "*   Can hold different data types → Numbers, strings, lists, etc;\n",
        "*   Uses parentheses () to define it (unlike lists, which use [])."
      ],
      "metadata": {
        "id": "RUP7PiM0ZIxI"
      }
    },
    {
      "cell_type": "code",
      "source": [
        "# Creating a tuple\n",
        "my_tuple = (1, \"Python\", 3.14)\n",
        "\n",
        "# Accessing elements\n",
        "print(my_tuple[0])   # Output: 1\n",
        "print(my_tuple[1])   # Output: Python\n",
        "\n",
        "# Length of tuple\n",
        "print(len(my_tuple)) # Output: 3"
      ],
      "metadata": {
        "colab": {
          "base_uri": "https://localhost:8080/"
        },
        "id": "dyHxJ79rZGEd",
        "outputId": "e4cdf666-0789-4545-c165-52a74b35aa70"
      },
      "execution_count": 52,
      "outputs": [
        {
          "output_type": "stream",
          "name": "stdout",
          "text": [
            "1\n",
            "Python\n",
            "3\n"
          ]
        }
      ]
    },
    {
      "cell_type": "markdown",
      "source": [
        "##### 2.1.1.4 Lists"
      ],
      "metadata": {
        "id": "bBIum7rQacV1"
      }
    },
    {
      "cell_type": "markdown",
      "source": [
        "A list is an ordered and mutable collection of elements.\n",
        "\n",
        "\n",
        "*   Ordered → Maintains the order of items;\n",
        "*   Mutable → You can add, remove, or modify elements after creating it;\n",
        "*   Can hold different data types → Numbers, strings, objects, even other lists;\n",
        "*   Uses square brackets [] to define it."
      ],
      "metadata": {
        "id": "Df20CrH-agOs"
      }
    },
    {
      "cell_type": "code",
      "source": [
        "# Creating a list\n",
        "my_list = [1, \"Python\", 3.14]\n",
        "\n",
        "# Accessing elements\n",
        "print(my_list[0])   # Output: 1\n",
        "\n",
        "# Adding an element\n",
        "my_list.append(\"New item\")\n",
        "print(my_list)      # Output: [1, \"Python\", 3.14, \"New item\"]\n",
        "\n",
        "# Modifying an element\n",
        "my_list[1] = \"JavaScript\"\n",
        "print(my_list)      # Output: [1, \"JavaScript\", 3.14, \"New item\"]"
      ],
      "metadata": {
        "colab": {
          "base_uri": "https://localhost:8080/"
        },
        "id": "OMirsijmZewl",
        "outputId": "7b783054-0e98-4454-ea67-8d6c50296b63"
      },
      "execution_count": 53,
      "outputs": [
        {
          "output_type": "stream",
          "name": "stdout",
          "text": [
            "1\n",
            "[1, 'Python', 3.14, 'New item']\n",
            "[1, 'JavaScript', 3.14, 'New item']\n"
          ]
        }
      ]
    },
    {
      "cell_type": "markdown",
      "source": [],
      "metadata": {
        "id": "1d-KXMLNc0kk"
      }
    },
    {
      "cell_type": "markdown",
      "source": [
        "##### 2.1.1.5 Set"
      ],
      "metadata": {
        "id": "syqbnUscc3ic"
      }
    },
    {
      "cell_type": "markdown",
      "source": [
        "A set is an unordered collection of unique elements.\n",
        "\n",
        "*   Unordered → The items don’t have a fixed position (no indexing);\n",
        "*   Unique values → Duplicates are automatically removed;\n",
        "*   Mutable → You can add or remove elements, but not modify them directly;\n",
        "*   Uses curly braces {} or the set() constructor."
      ],
      "metadata": {
        "id": "J06WRI36c8KF"
      }
    },
    {
      "cell_type": "code",
      "source": [
        "# Creating a set\n",
        "my_set = {1, 2, 3, 3, 4}\n",
        "\n",
        "print(my_set)  # Output: {1, 2, 3, 4} (duplicates removed)\n",
        "\n",
        "# Adding an element\n",
        "my_set.add(5)\n",
        "print(my_set)  # Output: {1, 2, 3, 4, 5}\n",
        "\n",
        "# Removing an element\n",
        "my_set.remove(2)\n",
        "print(my_set)  # Output: {1, 3, 4, 5}"
      ],
      "metadata": {
        "colab": {
          "base_uri": "https://localhost:8080/"
        },
        "id": "rqOXsXF_azxV",
        "outputId": "386fd7a7-85b3-4508-8fc4-eb78cc4cef32"
      },
      "execution_count": 54,
      "outputs": [
        {
          "output_type": "stream",
          "name": "stdout",
          "text": [
            "{1, 2, 3, 4}\n",
            "{1, 2, 3, 4, 5}\n",
            "{1, 3, 4, 5}\n"
          ]
        }
      ]
    },
    {
      "cell_type": "markdown",
      "source": [
        "##### 2.1.1.6 Dictionary"
      ],
      "metadata": {
        "id": "x1RqSK-pdcTu"
      }
    },
    {
      "cell_type": "markdown",
      "source": [
        "A dictionary is a collection of key–value pairs where each key is unique.\n",
        "\n",
        "*   Key–Value Structure → You access values using a key instead of an index;\n",
        "*   Mutable → You can add, remove, or modify items;\n",
        "*   Keys are unique; values can be duplicated;\n",
        "*   Uses curly braces {} with a key: value format.\n"
      ],
      "metadata": {
        "id": "R0MARlxydx-f"
      }
    },
    {
      "cell_type": "code",
      "source": [
        "# Creating a dictionary\n",
        "my_dict = {\n",
        "    \"name\": \"Alice\",\n",
        "    \"age\": 25,\n",
        "    \"city\": \"New York\"\n",
        "}\n",
        "\n",
        "# Accessing values by key\n",
        "print(my_dict[\"name\"])  # Output: Alice\n",
        "\n",
        "# Adding a new key-value pair\n",
        "my_dict[\"country\"] = \"USA\"\n",
        "\n",
        "# Modifying a value\n",
        "my_dict[\"age\"] = 26\n",
        "\n",
        "# Removing a key-value pair\n",
        "del my_dict[\"city\"]\n",
        "\n",
        "print(my_dict)\n",
        "# Output: {'name': 'Alice', 'age': 26, 'country': 'USA'}"
      ],
      "metadata": {
        "colab": {
          "base_uri": "https://localhost:8080/"
        },
        "id": "iOwxvSWzdQ0P",
        "outputId": "ee7d6cd9-06ed-4b71-a2ae-56c6a3eb32c9"
      },
      "execution_count": 55,
      "outputs": [
        {
          "output_type": "stream",
          "name": "stdout",
          "text": [
            "Alice\n",
            "{'name': 'Alice', 'age': 26, 'country': 'USA'}\n"
          ]
        }
      ]
    },
    {
      "cell_type": "markdown",
      "source": [
        "#### 2.1.2 Operators"
      ],
      "metadata": {
        "id": "09JLrXD9iMQG"
      }
    },
    {
      "cell_type": "code",
      "source": [],
      "metadata": {
        "id": "s22c2XXIeHF_"
      },
      "execution_count": 55,
      "outputs": []
    }
  ]
}