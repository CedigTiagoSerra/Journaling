{
  "nbformat": 4,
  "nbformat_minor": 5,
  "metadata": {
    "kernelspec": {
      "display_name": "Python 3",
      "language": "python",
      "name": "python3"
    },
    "language_info": {
      "codemirror_mode": {
        "name": "ipython",
        "version": 3
      },
      "file_extension": ".py",
      "mimetype": "text/x-python",
      "name": "python",
      "nbconvert_exporter": "python",
      "pygments_lexer": "ipython3",
      "version": "3.10"
    },
    "colab": {
      "provenance": [],
      "toc_visible": true,
      "include_colab_link": true
    }
  },
  "cells": [
    {
      "cell_type": "markdown",
      "metadata": {
        "id": "view-in-github",
        "colab_type": "text"
      },
      "source": [
        "<a href=\"https://colab.research.google.com/github/CedigTiagoSerra/Journaling/blob/main/Python.ipynb\" target=\"_parent\"><img src=\"https://colab.research.google.com/assets/colab-badge.svg\" alt=\"Open In Colab\"/></a>"
      ]
    },
    {
      "cell_type": "markdown",
      "source": [
        "# Python"
      ],
      "metadata": {
        "id": "O6xCRfmhiKKF"
      },
      "id": "O6xCRfmhiKKF"
    },
    {
      "cell_type": "markdown",
      "source": [
        "## 1.History of Python"
      ],
      "metadata": {
        "id": "s5-IE37niPJj"
      },
      "id": "s5-IE37niPJj"
    },
    {
      "cell_type": "markdown",
      "source": [
        "Python was created in 1989 by Guido van Rossum at CWI in the Netherlands as a simple, readable programming language that combined the power of C with the ease of shell scripting. It was released publicly in 1991 as Python 1.0, followed by Python 2.0 in 2000, which introduced features like list comprehensions and Unicode, but was officially discontinued in 2020. Python 3.0, launched in 2008, fixed design flaws and is the version widely used today. The name “Python” was inspired not by the snake, but by the British comedy show “Monty Python’s Flying Circus”, which Guido enjoyed and wanted the language to reflect — being fun and approachable as well as powerful.\n",
        "\n",
        "**Infographic of Python’s history:**\n",
        "\n",
        "<img src=\"https://raw.githubusercontent.com/CedigTiagoSerra/Journaling/refs/heads/main/resources/img/python_history.png\" width=\"350\" />"
      ],
      "metadata": {
        "id": "gFMjV7bWiW4N"
      },
      "id": "gFMjV7bWiW4N"
    },
    {
      "cell_type": "markdown",
      "source": [
        "## 2.Introduction to Python"
      ],
      "metadata": {
        "id": "IQ0WFkpwL83L"
      },
      "id": "IQ0WFkpwL83L"
    },
    {
      "cell_type": "markdown",
      "source": [
        "### 2.1 Variables and Operators"
      ],
      "metadata": {
        "id": "nef7zkfWMTI6"
      },
      "id": "nef7zkfWMTI6"
    },
    {
      "cell_type": "markdown",
      "source": [
        "A variable is used to store information that can be referenced later on."
      ],
      "metadata": {
        "id": "sbWtdSK1O-eF"
      },
      "id": "sbWtdSK1O-eF"
    },
    {
      "cell_type": "code",
      "source": [
        "result = 3 * 5\n",
        "result"
      ],
      "metadata": {
        "colab": {
          "base_uri": "https://localhost:8080/"
        },
        "id": "jPFPXco0MRY6",
        "outputId": "55b58020-0175-4ce2-c872-8ba74883fd9b"
      },
      "execution_count": null,
      "outputs": [
        {
          "output_type": "execute_result",
          "data": {
            "text/plain": [
              "15"
            ]
          },
          "metadata": {},
          "execution_count": 2
        }
      ],
      "id": "jPFPXco0MRY6"
    },
    {
      "cell_type": "markdown",
      "source": [
        "#### 2.1.1 Python data types"
      ],
      "metadata": {
        "id": "W4X34KfxQwo8"
      },
      "id": "W4X34KfxQwo8"
    },
    {
      "cell_type": "markdown",
      "source": [
        "##### 2.1.1.1 Integer"
      ],
      "metadata": {
        "id": "iICHM5OCRBbc"
      },
      "id": "iICHM5OCRBbc"
    },
    {
      "cell_type": "markdown",
      "source": [
        "The Python integer is a non-fractional number, like 1, 2, 45, -1, -2, and -100. It’s one of the three types of numbers."
      ],
      "metadata": {
        "id": "OafW8xflReY9"
      },
      "id": "OafW8xflReY9"
    },
    {
      "cell_type": "code",
      "source": [
        "integer = 98762345098709872345000\n",
        "integer + 1\n",
        "integer"
      ],
      "metadata": {
        "colab": {
          "base_uri": "https://localhost:8080/"
        },
        "id": "8KkJi4PTPGFG",
        "outputId": "ec54423d-2da5-4e70-cd51-c42501311a4a"
      },
      "execution_count": null,
      "outputs": [
        {
          "output_type": "execute_result",
          "data": {
            "text/plain": [
              "98762345098709872345000"
            ]
          },
          "metadata": {},
          "execution_count": 36
        }
      ],
      "id": "8KkJi4PTPGFG"
    },
    {
      "cell_type": "code",
      "source": [
        "# String to integer\n",
        "int('100')"
      ],
      "metadata": {
        "colab": {
          "base_uri": "https://localhost:8080/"
        },
        "id": "TnfaBoWKQAYd",
        "outputId": "20b1c497-96be-4585-a03f-8dd8204a4656"
      },
      "execution_count": null,
      "outputs": [
        {
          "output_type": "execute_result",
          "data": {
            "text/plain": [
              "100"
            ]
          },
          "metadata": {},
          "execution_count": 37
        }
      ],
      "id": "TnfaBoWKQAYd"
    },
    {
      "cell_type": "code",
      "source": [
        "# Integer to string\n",
        "str(200)"
      ],
      "metadata": {
        "colab": {
          "base_uri": "https://localhost:8080/"
        },
        "id": "KiCTHp35R_JN",
        "outputId": "b8a1b5d4-56c3-48c8-8ed0-8cfc323c4b78"
      },
      "execution_count": null,
      "outputs": [
        {
          "output_type": "execute_result",
          "data": {
            "text/plain": [
              "'200'"
            ],
            "application/vnd.google.colaboratory.intrinsic+json": {
              "type": "string"
            }
          },
          "metadata": {},
          "execution_count": 38
        }
      ],
      "id": "KiCTHp35R_JN"
    },
    {
      "cell_type": "code",
      "source": [
        "# Float to integer\n",
        "int(2.3)"
      ],
      "metadata": {
        "colab": {
          "base_uri": "https://localhost:8080/"
        },
        "id": "9-lBfTe3SBRb",
        "outputId": "58262b7f-970c-46e3-92de-b3466771ad4c"
      },
      "execution_count": null,
      "outputs": [
        {
          "output_type": "execute_result",
          "data": {
            "text/plain": [
              "2"
            ]
          },
          "metadata": {},
          "execution_count": 39
        }
      ],
      "id": "9-lBfTe3SBRb"
    },
    {
      "cell_type": "code",
      "source": [
        "# Random\n",
        "import random\n",
        "random.randint(1,10)"
      ],
      "metadata": {
        "colab": {
          "base_uri": "https://localhost:8080/"
        },
        "id": "wpiQjqdJSJJj",
        "outputId": "b8fa2126-9b9d-472c-9c6b-4dd1dd05065f"
      },
      "execution_count": null,
      "outputs": [
        {
          "output_type": "execute_result",
          "data": {
            "text/plain": [
              "9"
            ]
          },
          "metadata": {},
          "execution_count": 40
        }
      ],
      "id": "wpiQjqdJSJJj"
    },
    {
      "cell_type": "markdown",
      "source": [
        "We can use the type() function to check if a value is an integer."
      ],
      "metadata": {
        "id": "37h05Vr1SuAY"
      },
      "id": "37h05Vr1SuAY"
    },
    {
      "cell_type": "code",
      "source": [
        "type(2)"
      ],
      "metadata": {
        "colab": {
          "base_uri": "https://localhost:8080/"
        },
        "id": "8YqqKU1XSmUX",
        "outputId": "b9714df4-77bb-4181-f27b-a108d360c08b"
      },
      "execution_count": null,
      "outputs": [
        {
          "output_type": "execute_result",
          "data": {
            "text/plain": [
              "int"
            ]
          },
          "metadata": {},
          "execution_count": 41
        }
      ],
      "id": "8YqqKU1XSmUX"
    },
    {
      "cell_type": "code",
      "source": [
        "if isinstance(2, int):\n",
        "  print('An integer')"
      ],
      "metadata": {
        "colab": {
          "base_uri": "https://localhost:8080/"
        },
        "id": "rNTCR5m6S4Eb",
        "outputId": "421a5669-c00e-4650-8752-9fafa7d1c85d"
      },
      "execution_count": null,
      "outputs": [
        {
          "output_type": "stream",
          "name": "stdout",
          "text": [
            "An integer\n"
          ]
        }
      ],
      "id": "rNTCR5m6S4Eb"
    },
    {
      "cell_type": "code",
      "source": [],
      "metadata": {
        "id": "Xc0lTQE_S8Zp"
      },
      "execution_count": null,
      "outputs": [],
      "id": "Xc0lTQE_S8Zp"
    },
    {
      "cell_type": "markdown",
      "source": [
        "##### 2.1.1.2 Float"
      ],
      "metadata": {
        "id": "PzHtuCC0TSZv"
      },
      "id": "PzHtuCC0TSZv"
    },
    {
      "cell_type": "markdown",
      "source": [
        "A Python float is a numerical data type that represents a floating-point number."
      ],
      "metadata": {
        "id": "GmdqyTPkUtv1"
      },
      "id": "GmdqyTPkUtv1"
    },
    {
      "cell_type": "code",
      "source": [
        "f = 1.45\n",
        "f"
      ],
      "metadata": {
        "colab": {
          "base_uri": "https://localhost:8080/"
        },
        "id": "4K3QPSiMUnsR",
        "outputId": "014432d1-3d45-4d5b-a0b3-f7c3cd579ed2"
      },
      "execution_count": null,
      "outputs": [
        {
          "output_type": "execute_result",
          "data": {
            "text/plain": [
              "1.45"
            ]
          },
          "metadata": {},
          "execution_count": 43
        }
      ],
      "id": "4K3QPSiMUnsR"
    },
    {
      "cell_type": "code",
      "source": [
        "f = float(2.0)\n",
        "f = float(2)\n",
        "f = float(\"2\")\n",
        "f"
      ],
      "metadata": {
        "colab": {
          "base_uri": "https://localhost:8080/"
        },
        "id": "7ohbfkh8U0Q9",
        "outputId": "80dd8183-ad32-405f-b220-fa1e637f7ff4"
      },
      "execution_count": null,
      "outputs": [
        {
          "output_type": "execute_result",
          "data": {
            "text/plain": [
              "2.0"
            ]
          },
          "metadata": {},
          "execution_count": 44
        }
      ],
      "id": "7ohbfkh8U0Q9"
    },
    {
      "cell_type": "code",
      "source": [
        "f = 1.45e3\n",
        "f"
      ],
      "metadata": {
        "colab": {
          "base_uri": "https://localhost:8080/"
        },
        "id": "e43eFyrCU3YZ",
        "outputId": "14393a33-4c66-4c46-f4ed-b94835232201"
      },
      "execution_count": null,
      "outputs": [
        {
          "output_type": "execute_result",
          "data": {
            "text/plain": [
              "1450.0"
            ]
          },
          "metadata": {},
          "execution_count": 45
        }
      ],
      "id": "e43eFyrCU3YZ"
    },
    {
      "cell_type": "markdown",
      "source": [
        "**Round, floor, and upper**\n",
        "\n",
        "With floats, we often need to round numbers. For this, Python has the round function. The round function accepts two arguments: the number itself and an optional precision (the number of decimals). The default for this last number is 0, meaning that it will round to whole integers. Some examples:"
      ],
      "metadata": {
        "id": "AgDSmsrHVIyt"
      },
      "id": "AgDSmsrHVIyt"
    },
    {
      "cell_type": "code",
      "source": [
        "f = 1.4567\n",
        "round(f)\n",
        "f"
      ],
      "metadata": {
        "colab": {
          "base_uri": "https://localhost:8080/"
        },
        "id": "5UopZb0uU6v6",
        "outputId": "c7f299bb-21cc-4c51-d86a-c5521e6e68cb"
      },
      "execution_count": null,
      "outputs": [
        {
          "output_type": "execute_result",
          "data": {
            "text/plain": [
              "1.4567"
            ]
          },
          "metadata": {},
          "execution_count": 46
        }
      ],
      "id": "5UopZb0uU6v6"
    },
    {
      "cell_type": "code",
      "source": [
        "round(f, 2)"
      ],
      "metadata": {
        "colab": {
          "base_uri": "https://localhost:8080/"
        },
        "id": "JnOmRCT4VTR8",
        "outputId": "0a8120a4-2c93-48d9-d852-36b48ffdaa83"
      },
      "execution_count": null,
      "outputs": [
        {
          "output_type": "execute_result",
          "data": {
            "text/plain": [
              "1.46"
            ]
          },
          "metadata": {},
          "execution_count": 47
        }
      ],
      "id": "JnOmRCT4VTR8"
    },
    {
      "cell_type": "code",
      "source": [
        "f = 1.54\n",
        "round(f)"
      ],
      "metadata": {
        "colab": {
          "base_uri": "https://localhost:8080/"
        },
        "id": "lundWefzVWBR",
        "outputId": "32b2eed2-9686-40b2-bbaf-4100678b6899"
      },
      "execution_count": null,
      "outputs": [
        {
          "output_type": "execute_result",
          "data": {
            "text/plain": [
              "2"
            ]
          },
          "metadata": {},
          "execution_count": 48
        }
      ],
      "id": "lundWefzVWBR"
    },
    {
      "cell_type": "code",
      "source": [
        "round(f, 1)"
      ],
      "metadata": {
        "colab": {
          "base_uri": "https://localhost:8080/"
        },
        "id": "fY4Fn-4QVbKv",
        "outputId": "c68b2105-4f11-4503-b9e5-7af366af2a79"
      },
      "execution_count": null,
      "outputs": [
        {
          "output_type": "execute_result",
          "data": {
            "text/plain": [
              "1.5"
            ]
          },
          "metadata": {},
          "execution_count": 49
        }
      ],
      "id": "fY4Fn-4QVbKv"
    },
    {
      "cell_type": "code",
      "source": [
        "from math import floor, ceil\n",
        "# Round 1.23 down to the nearest integer\n",
        "x = floor(1.23)  # x will be 1\n",
        "x"
      ],
      "metadata": {
        "colab": {
          "base_uri": "https://localhost:8080/"
        },
        "id": "t822qGV5VdKZ",
        "outputId": "74df7098-d315-4a7e-96b6-d7bc0036ff2c"
      },
      "execution_count": null,
      "outputs": [
        {
          "output_type": "execute_result",
          "data": {
            "text/plain": [
              "1"
            ]
          },
          "metadata": {},
          "execution_count": 50
        }
      ],
      "id": "t822qGV5VdKZ"
    },
    {
      "cell_type": "code",
      "source": [
        "from math import floor, ceil\n",
        "# Round 1.23 up to the nearest integer\n",
        "y = ceil(1.23)  # y will be 2\n",
        "y"
      ],
      "metadata": {
        "colab": {
          "base_uri": "https://localhost:8080/"
        },
        "id": "73HtkfYaYX2p",
        "outputId": "83997de4-c58d-4c58-8059-745972c58737"
      },
      "execution_count": null,
      "outputs": [
        {
          "output_type": "execute_result",
          "data": {
            "text/plain": [
              "2"
            ]
          },
          "metadata": {},
          "execution_count": 51
        }
      ],
      "id": "73HtkfYaYX2p"
    },
    {
      "cell_type": "markdown",
      "source": [
        "##### 2.1.1.3 Tuple"
      ],
      "metadata": {
        "id": "iCmndfMCZB91"
      },
      "id": "iCmndfMCZB91"
    },
    {
      "cell_type": "markdown",
      "source": [
        "In Python, a tuple is an ordered and immutable collection of elements.\n",
        "This means:\n",
        "*   Ordered → It preserves the order in which the items were added;\n",
        "*   Immutable → Once created, you cannot change, add, or remove elements;\n",
        "*   Can hold different data types → Numbers, strings, lists, etc;\n",
        "*   Uses parentheses () to define it (unlike lists, which use [])."
      ],
      "metadata": {
        "id": "RUP7PiM0ZIxI"
      },
      "id": "RUP7PiM0ZIxI"
    },
    {
      "cell_type": "code",
      "source": [
        "# Creating a tuple\n",
        "my_tuple = (1, \"Python\", 3.14)\n",
        "\n",
        "# Accessing elements\n",
        "print(my_tuple[0])   # Output: 1\n",
        "print(my_tuple[1])   # Output: Python\n",
        "\n",
        "# Length of tuple\n",
        "print(len(my_tuple)) # Output: 3"
      ],
      "metadata": {
        "colab": {
          "base_uri": "https://localhost:8080/"
        },
        "id": "dyHxJ79rZGEd",
        "outputId": "e4cdf666-0789-4545-c165-52a74b35aa70"
      },
      "execution_count": null,
      "outputs": [
        {
          "output_type": "stream",
          "name": "stdout",
          "text": [
            "1\n",
            "Python\n",
            "3\n"
          ]
        }
      ],
      "id": "dyHxJ79rZGEd"
    },
    {
      "cell_type": "markdown",
      "source": [
        "##### 2.1.1.4 Lists"
      ],
      "metadata": {
        "id": "bBIum7rQacV1"
      },
      "id": "bBIum7rQacV1"
    },
    {
      "cell_type": "markdown",
      "source": [
        "A list is an ordered and mutable collection of elements.\n",
        "\n",
        "\n",
        "*   Ordered → Maintains the order of items;\n",
        "*   Mutable → You can add, remove, or modify elements after creating it;\n",
        "*   Can hold different data types → Numbers, strings, objects, even other lists;\n",
        "*   Uses square brackets [] to define it."
      ],
      "metadata": {
        "id": "Df20CrH-agOs"
      },
      "id": "Df20CrH-agOs"
    },
    {
      "cell_type": "code",
      "source": [
        "# Creating a list\n",
        "my_list = [1, \"Python\", 3.14]\n",
        "\n",
        "# Accessing elements\n",
        "print(my_list[0])   # Output: 1\n",
        "\n",
        "# Adding an element\n",
        "my_list.append(\"New item\")\n",
        "print(my_list)      # Output: [1, \"Python\", 3.14, \"New item\"]\n",
        "\n",
        "# Modifying an element\n",
        "my_list[1] = \"JavaScript\"\n",
        "print(my_list)      # Output: [1, \"JavaScript\", 3.14, \"New item\"]"
      ],
      "metadata": {
        "colab": {
          "base_uri": "https://localhost:8080/"
        },
        "id": "OMirsijmZewl",
        "outputId": "7b783054-0e98-4454-ea67-8d6c50296b63"
      },
      "execution_count": null,
      "outputs": [
        {
          "output_type": "stream",
          "name": "stdout",
          "text": [
            "1\n",
            "[1, 'Python', 3.14, 'New item']\n",
            "[1, 'JavaScript', 3.14, 'New item']\n"
          ]
        }
      ],
      "id": "OMirsijmZewl"
    },
    {
      "cell_type": "markdown",
      "source": [],
      "metadata": {
        "id": "1d-KXMLNc0kk"
      },
      "id": "1d-KXMLNc0kk"
    },
    {
      "cell_type": "markdown",
      "source": [
        "##### 2.1.1.5 Set"
      ],
      "metadata": {
        "id": "syqbnUscc3ic"
      },
      "id": "syqbnUscc3ic"
    },
    {
      "cell_type": "markdown",
      "source": [
        "A set is an unordered collection of unique elements.\n",
        "\n",
        "*   Unordered → The items don’t have a fixed position (no indexing);\n",
        "*   Unique values → Duplicates are automatically removed;\n",
        "*   Mutable → You can add or remove elements, but not modify them directly;\n",
        "*   Uses curly braces {} or the set() constructor."
      ],
      "metadata": {
        "id": "J06WRI36c8KF"
      },
      "id": "J06WRI36c8KF"
    },
    {
      "cell_type": "code",
      "source": [
        "# Creating a set\n",
        "my_set = {1, 2, 3, 3, 4}\n",
        "\n",
        "print(my_set)  # Output: {1, 2, 3, 4} (duplicates removed)\n",
        "\n",
        "# Adding an element\n",
        "my_set.add(5)\n",
        "print(my_set)  # Output: {1, 2, 3, 4, 5}\n",
        "\n",
        "# Removing an element\n",
        "my_set.remove(2)\n",
        "print(my_set)  # Output: {1, 3, 4, 5}"
      ],
      "metadata": {
        "colab": {
          "base_uri": "https://localhost:8080/"
        },
        "id": "rqOXsXF_azxV",
        "outputId": "386fd7a7-85b3-4508-8fc4-eb78cc4cef32"
      },
      "execution_count": null,
      "outputs": [
        {
          "output_type": "stream",
          "name": "stdout",
          "text": [
            "{1, 2, 3, 4}\n",
            "{1, 2, 3, 4, 5}\n",
            "{1, 3, 4, 5}\n"
          ]
        }
      ],
      "id": "rqOXsXF_azxV"
    },
    {
      "cell_type": "markdown",
      "source": [
        "##### 2.1.1.6 Dictionary"
      ],
      "metadata": {
        "id": "x1RqSK-pdcTu"
      },
      "id": "x1RqSK-pdcTu"
    },
    {
      "cell_type": "markdown",
      "source": [
        "A dictionary is a collection of key–value pairs where each key is unique.\n",
        "\n",
        "*   Key–Value Structure → You access values using a key instead of an index;\n",
        "*   Mutable → You can add, remove, or modify items;\n",
        "*   Keys are unique; values can be duplicated;\n",
        "*   Uses curly braces {} with a key: value format.\n"
      ],
      "metadata": {
        "id": "R0MARlxydx-f"
      },
      "id": "R0MARlxydx-f"
    },
    {
      "cell_type": "code",
      "source": [
        "# Creating a dictionary\n",
        "my_dict = {\n",
        "    \"name\": \"Alice\",\n",
        "    \"age\": 25,\n",
        "    \"city\": \"New York\"\n",
        "}\n",
        "\n",
        "# Accessing values by key\n",
        "print(my_dict[\"name\"])  # Output: Alice\n",
        "\n",
        "# Adding a new key-value pair\n",
        "my_dict[\"country\"] = \"USA\"\n",
        "\n",
        "# Modifying a value\n",
        "my_dict[\"age\"] = 26\n",
        "\n",
        "# Removing a key-value pair\n",
        "del my_dict[\"city\"]\n",
        "\n",
        "print(my_dict)\n",
        "# Output: {'name': 'Alice', 'age': 26, 'country': 'USA'}"
      ],
      "metadata": {
        "colab": {
          "base_uri": "https://localhost:8080/"
        },
        "id": "iOwxvSWzdQ0P",
        "outputId": "ee7d6cd9-06ed-4b71-a2ae-56c6a3eb32c9"
      },
      "execution_count": null,
      "outputs": [
        {
          "output_type": "stream",
          "name": "stdout",
          "text": [
            "Alice\n",
            "{'name': 'Alice', 'age': 26, 'country': 'USA'}\n"
          ]
        }
      ],
      "id": "iOwxvSWzdQ0P"
    },
    {
      "cell_type": "markdown",
      "source": [
        "#### 2.1.2 Operators"
      ],
      "metadata": {
        "id": "09JLrXD9iMQG"
      },
      "id": "09JLrXD9iMQG"
    },
    {
      "cell_type": "markdown",
      "metadata": {
        "id": "zCqdrrBj25XK"
      },
      "source": [
        "##### 2.1.2.1. Arithmetic Operators\n"
      ],
      "id": "zCqdrrBj25XK"
    },
    {
      "cell_type": "markdown",
      "source": [
        "Used for mathematical calculations:\n",
        "\n",
        "| Operator | Description | Example |\n",
        "|----------|-------------|---------|\n",
        "| +      | Addition | 5 + 3 = 8 |\n",
        "| -      | Subtraction | 5 - 3 = 2 |\n",
        "| *      | Multiplication | 5 * 3 = 15 |\n",
        "| /      | Division | 5 / 2 = 2.5 |\n",
        "| //     | Floor Division | 5 // 2 = 2 |\n",
        "| %      | Modulus (remainder) | 5 % 2 = 1 |\n",
        "| **     | Exponentiation | 2 ** 3 = 8 |"
      ],
      "metadata": {
        "id": "_ruTc9yZ3KOy"
      },
      "id": "_ruTc9yZ3KOy"
    },
    {
      "cell_type": "code",
      "metadata": {
        "colab": {
          "base_uri": "https://localhost:8080/"
        },
        "id": "c0F_SaV525XK",
        "outputId": "0fe3f5d0-c501-41ed-b2a6-64e18377babc"
      },
      "source": [
        "# Arithmetic Operators Example\n",
        "a = 5\n",
        "b = 2\n",
        "print(\"a + b =\", a + b)\n",
        "print(\"a - b =\", a - b)\n",
        "print(\"a * b =\", a * b)\n",
        "print(\"a / b =\", a / b)\n",
        "print(\"a // b =\", a // b)\n",
        "print(\"a % b =\", a % b)\n",
        "print(\"a ** b =\", a ** b)"
      ],
      "execution_count": 56,
      "outputs": [
        {
          "output_type": "stream",
          "name": "stdout",
          "text": [
            "a + b = 7\n",
            "a - b = 3\n",
            "a * b = 10\n",
            "a / b = 2.5\n",
            "a // b = 2\n",
            "a % b = 1\n",
            "a ** b = 25\n"
          ]
        }
      ],
      "id": "c0F_SaV525XK"
    },
    {
      "cell_type": "markdown",
      "metadata": {
        "id": "lCZbamli25XK"
      },
      "source": [
        "##### 2.1.2.2 Comparison Operators"
      ],
      "id": "lCZbamli25XK"
    },
    {
      "cell_type": "markdown",
      "source": [
        "Used to compare values, returning True or False.\n",
        "\n",
        "| Operator | Description | Example |\n",
        "|----------|-------------|---------|\n",
        "| == | Equal to | 5 == 3 → False |\n",
        "| != | Not equal | 5 != 3 → True |\n",
        "| > | Greater than | 5 > 3 → True |\n",
        "| < | Less than | 5 < 3 → False |\n",
        "| >= | Greater or equal | 5 >= 3 → True |\n",
        "| <= | Less or equal | 5 <= 3 → False |"
      ],
      "metadata": {
        "id": "k_UiTPtc3hxy"
      },
      "id": "k_UiTPtc3hxy"
    },
    {
      "cell_type": "code",
      "metadata": {
        "colab": {
          "base_uri": "https://localhost:8080/"
        },
        "id": "upeh3_dh25XK",
        "outputId": "7503f166-eaa2-4ad3-8456-c97aa3b824b0"
      },
      "source": [
        "# Comparison Operators Example\n",
        "x = 5\n",
        "y = 3\n",
        "print(\"x == y:\", x == y)\n",
        "print(\"x != y:\", x != y)\n",
        "print(\"x > y:\", x > y)\n",
        "print(\"x < y:\", x < y)\n",
        "print(\"x >= y:\", x >= y)\n",
        "print(\"x <= y:\", x <= y)"
      ],
      "execution_count": 57,
      "outputs": [
        {
          "output_type": "stream",
          "name": "stdout",
          "text": [
            "x == y: False\n",
            "x != y: True\n",
            "x > y: True\n",
            "x < y: False\n",
            "x >= y: True\n",
            "x <= y: False\n"
          ]
        }
      ],
      "id": "upeh3_dh25XK"
    },
    {
      "cell_type": "markdown",
      "metadata": {
        "id": "wj-11wXa25XK"
      },
      "source": [
        "##### 2.1.2.3 Logical Operators\n"
      ],
      "id": "wj-11wXa25XK"
    },
    {
      "cell_type": "markdown",
      "source": [
        "Combine conditional statements.\n",
        "\n",
        "| Operator | Description | Example |\n",
        "|----------|-------------|---------|\n",
        "| and | True if **both** conditions are True | 5 > 3 and 2 < 4 → True |\n",
        "| or | True if **one** condition is True | 5 > 3 or 2 > 4 → True |\n",
        "| not | Reverses True/False | not(5 > 3) → False |"
      ],
      "metadata": {
        "id": "-y6ljmSU30rB"
      },
      "id": "-y6ljmSU30rB"
    },
    {
      "cell_type": "code",
      "metadata": {
        "colab": {
          "base_uri": "https://localhost:8080/"
        },
        "id": "oUDODm2c25XL",
        "outputId": "8ca24462-a509-45e4-bd0b-7342aa756bff"
      },
      "source": [
        "# Logical Operators Example\n",
        "a = True\n",
        "b = False\n",
        "print(\"a and b:\", a and b)\n",
        "print(\"a or b:\", a or b)\n",
        "print(\"not a:\", not a)"
      ],
      "execution_count": 58,
      "outputs": [
        {
          "output_type": "stream",
          "name": "stdout",
          "text": [
            "a and b: False\n",
            "a or b: True\n",
            "not a: False\n"
          ]
        }
      ],
      "id": "oUDODm2c25XL"
    },
    {
      "cell_type": "markdown",
      "metadata": {
        "id": "tkh1c0Ix25XL"
      },
      "source": [
        "##### 2.1.2.4 Assignment Operators\n"
      ],
      "id": "tkh1c0Ix25XL"
    },
    {
      "cell_type": "markdown",
      "source": [
        "Used to assign values and modify variables.\n",
        "\n",
        "| Operator | Example | Equivalent to |\n",
        "|----------|---------|---------------|\n",
        "| = | x = 5 | x = 5 |\n",
        "| += | x += 3 | x = x + 3 |\n",
        "| -= | x -= 3 | x = x - 3 |\n",
        "| *= | x *= 3 | x = x * 3 |\n",
        "| /= | x /= 3 | x = x / 3 |\n",
        "| //= | x //= 3 | x = x // 3 |\n",
        "| %= | x %= 3 | x = x % 3 |\n",
        "| **= | x **= 3 | x = x ** 3 |"
      ],
      "metadata": {
        "id": "yArjJVb3370B"
      },
      "id": "yArjJVb3370B"
    },
    {
      "cell_type": "code",
      "metadata": {
        "colab": {
          "base_uri": "https://localhost:8080/"
        },
        "id": "LVftfMGg25XL",
        "outputId": "c4490b90-093d-43ff-9d46-181dd03a44fd"
      },
      "source": [
        "# Assignment Operators Example\n",
        "x = 10\n",
        "x += 5\n",
        "print(\"x after += 5:\", x)\n",
        "x *= 2\n",
        "print(\"x after *= 2:\", x)"
      ],
      "execution_count": 59,
      "outputs": [
        {
          "output_type": "stream",
          "name": "stdout",
          "text": [
            "x after += 5: 15\n",
            "x after *= 2: 30\n"
          ]
        }
      ],
      "id": "LVftfMGg25XL"
    },
    {
      "cell_type": "markdown",
      "metadata": {
        "id": "U6AYz3AI25XL"
      },
      "source": [
        "##### 2.1.2.5 Bitwise Operators\n"
      ],
      "id": "U6AYz3AI25XL"
    },
    {
      "cell_type": "markdown",
      "source": [
        "Work on binary numbers.\n",
        "\n",
        "| Operator | Description | Example |\n",
        "|----------|-------------|---------|\n",
        "| & | AND | 5 & 3 → 1 |\n",
        "| | | OR | 5 | 3 → 7 |\n",
        "| ^ | XOR | 5 ^ 3 → 6 |\n",
        "| ~ | NOT | ~5 → -6 |\n",
        "| << | Left shift | 5 << 1 → 10 |\n",
        "| >> | Right shift | 5 >> 1 → 2 |"
      ],
      "metadata": {
        "id": "MGOJuFGt4Csx"
      },
      "id": "MGOJuFGt4Csx"
    },
    {
      "cell_type": "code",
      "metadata": {
        "colab": {
          "base_uri": "https://localhost:8080/"
        },
        "id": "fWAeUEug25XL",
        "outputId": "0617f5fc-2b91-4949-9ad2-cf65a8c6d299"
      },
      "source": [
        "# Bitwise Operators Example\n",
        "a = 5  # 0101 in binary\n",
        "b = 3  # 0011 in binary\n",
        "print(\"a & b:\", a & b)\n",
        "print(\"a | b:\", a | b)\n",
        "print(\"a ^ b:\", a ^ b)\n",
        "print(\"~a:\", ~a)\n",
        "print(\"a << 1:\", a << 1)\n",
        "print(\"a >> 1:\", a >> 1)"
      ],
      "execution_count": 60,
      "outputs": [
        {
          "output_type": "stream",
          "name": "stdout",
          "text": [
            "a & b: 1\n",
            "a | b: 7\n",
            "a ^ b: 6\n",
            "~a: -6\n",
            "a << 1: 10\n",
            "a >> 1: 2\n"
          ]
        }
      ],
      "id": "fWAeUEug25XL"
    },
    {
      "cell_type": "markdown",
      "metadata": {
        "id": "cMWXMIba25XM"
      },
      "source": [
        "##### 2.1.2.7 Membership Operators\n"
      ],
      "id": "cMWXMIba25XM"
    },
    {
      "cell_type": "markdown",
      "source": [
        "Check if a value exists in a sequence.\n",
        "\n",
        "| Operator | Description | Example |\n",
        "|----------|-------------|---------|\n",
        "| in | True if value exists | 3 in [1,2,3] → True |\n",
        "| not in | True if value does NOT exist | 4 not in [1,2,3] → True |"
      ],
      "metadata": {
        "id": "xNwxpYlu4IVS"
      },
      "id": "xNwxpYlu4IVS"
    },
    {
      "cell_type": "code",
      "metadata": {
        "id": "T_TOjM3D25XM"
      },
      "source": [
        "# Membership Operators Example\n",
        "nums = [1, 2, 3]\n",
        "print(\"3 in nums:\", 3 in nums)\n",
        "print(\"4 not in nums:\", 4 not in nums)"
      ],
      "execution_count": null,
      "outputs": [],
      "id": "T_TOjM3D25XM"
    },
    {
      "cell_type": "markdown",
      "metadata": {
        "id": "FA27Abh825XM"
      },
      "source": [
        "##### 2.1.2.8 Identity Operators\n"
      ],
      "id": "FA27Abh825XM"
    },
    {
      "cell_type": "markdown",
      "source": [
        "Check if two objects are the same in memory.\n",
        "\n",
        "| Operator | Description | Example |\n",
        "|----------|-------------|---------|\n",
        "| is | True if objects are same | x is y |\n",
        "| is not | True if objects are different | x is not y |"
      ],
      "metadata": {
        "id": "0au7YYnF4NVe"
      },
      "id": "0au7YYnF4NVe"
    },
    {
      "cell_type": "code",
      "metadata": {
        "colab": {
          "base_uri": "https://localhost:8080/"
        },
        "id": "dKOppoQI25XM",
        "outputId": "eb2476e6-96ef-4d21-d4b6-698894ab55c2"
      },
      "source": [
        "# Identity Operators Example\n",
        "x = [1, 2]\n",
        "y = x\n",
        "z = [1, 2]\n",
        "print(\"x is y:\", x is y)\n",
        "print(\"x is z:\", x is z)\n",
        "print(\"x is not z:\", x is not z)"
      ],
      "execution_count": 61,
      "outputs": [
        {
          "output_type": "stream",
          "name": "stdout",
          "text": [
            "x is y: True\n",
            "x is z: False\n",
            "x is not z: True\n"
          ]
        }
      ],
      "id": "dKOppoQI25XM"
    },
    {
      "cell_type": "markdown",
      "source": [
        "#### 2.1.3 Enums"
      ],
      "metadata": {
        "id": "uG_43xlWpno5"
      },
      "id": "uG_43xlWpno5"
    },
    {
      "cell_type": "markdown",
      "source": [
        "In Python, enum (enumeration) is a way to define named constant values."
      ],
      "metadata": {
        "id": "34YMp2Ietdpo"
      },
      "id": "34YMp2Ietdpo"
    },
    {
      "cell_type": "code",
      "source": [
        "from enum import Enum\n",
        "\n",
        "class Color(Enum):\n",
        "    RED = 1\n",
        "    GREEN = 2\n",
        "    BLUE = 3\n",
        "\n",
        "print(Color.RED)        # Color.RED\n",
        "print(Color.RED.name)   # 'RED'\n",
        "print(Color.RED.value)  # 1"
      ],
      "metadata": {
        "colab": {
          "base_uri": "https://localhost:8080/"
        },
        "id": "xqZS-giFtmwD",
        "outputId": "f3f14392-6404-47fb-c19a-606f9f384b7a"
      },
      "id": "xqZS-giFtmwD",
      "execution_count": 8,
      "outputs": [
        {
          "output_type": "stream",
          "name": "stdout",
          "text": [
            "Color.RED\n",
            "RED\n",
            "1\n"
          ]
        }
      ]
    },
    {
      "cell_type": "markdown",
      "source": [
        "#### 2.1.4 User Input"
      ],
      "metadata": {
        "id": "ywLzDhVUudg-"
      },
      "id": "ywLzDhVUudg-"
    },
    {
      "cell_type": "code",
      "source": [
        "name = input(\"Enter your name: \")\n",
        "print(\"Hello,\", name)"
      ],
      "metadata": {
        "colab": {
          "base_uri": "https://localhost:8080/"
        },
        "id": "VwQsj_Hsuw4y",
        "outputId": "bb781b66-d06c-4d35-af72-ddbb01ea856f"
      },
      "id": "VwQsj_Hsuw4y",
      "execution_count": 9,
      "outputs": [
        {
          "output_type": "stream",
          "name": "stdout",
          "text": [
            "Enter your name: Tiago\n",
            "Hello, Tiago\n"
          ]
        }
      ]
    },
    {
      "cell_type": "markdown",
      "source": [
        "In Python, user input is taken using the built-in input() function."
      ],
      "metadata": {
        "id": "MC8p47IdulTJ"
      },
      "id": "MC8p47IdulTJ"
    },
    {
      "cell_type": "markdown",
      "source": [
        "### 2.2 Conditional and Looping Structures"
      ],
      "metadata": {
        "id": "4qfsl0y5j7Se"
      },
      "id": "4qfsl0y5j7Se"
    },
    {
      "cell_type": "markdown",
      "source": [
        "#### 2.2.1 Conditional Structures"
      ],
      "metadata": {
        "id": "Ek0BUv6uk4f2"
      },
      "id": "Ek0BUv6uk4f2"
    },
    {
      "cell_type": "markdown",
      "source": [
        "##### 2.2.1.1 if / elif / else"
      ],
      "metadata": {
        "id": "MH5p085Jm0b9"
      },
      "id": "MH5p085Jm0b9"
    },
    {
      "cell_type": "markdown",
      "source": [
        "Used to make decisions in the code based on conditions."
      ],
      "metadata": {
        "id": "76cLck6XlBLs"
      },
      "id": "76cLck6XlBLs"
    },
    {
      "cell_type": "code",
      "source": [
        "age = 18\n",
        "\n",
        "if age >= 18:\n",
        "    print(\"Adult\")\n",
        "else:\n",
        "    print(\"Minor\")"
      ],
      "metadata": {
        "colab": {
          "base_uri": "https://localhost:8080/"
        },
        "id": "dbf_EBI1lBuL",
        "outputId": "656bb4a3-e413-49cd-e7ff-5d0d7d2d22fe"
      },
      "id": "dbf_EBI1lBuL",
      "execution_count": 1,
      "outputs": [
        {
          "output_type": "stream",
          "name": "stdout",
          "text": [
            "Adult\n"
          ]
        }
      ]
    },
    {
      "cell_type": "markdown",
      "source": [
        "##### 2.2.2.2 match/case"
      ],
      "metadata": {
        "id": "n5CNgJTTm9_R"
      },
      "id": "n5CNgJTTm9_R"
    },
    {
      "cell_type": "markdown",
      "source": [
        "It's look like switch case:"
      ],
      "metadata": {
        "id": "FT0vG88BnLu5"
      },
      "id": "FT0vG88BnLu5"
    },
    {
      "cell_type": "code",
      "source": [
        "command = \"b\"\n",
        "\n",
        "match command:\n",
        "    case \"a\":\n",
        "        print(\"Option A\")\n",
        "    case \"b\":\n",
        "        print(\"Option B\")\n",
        "    case \"c\":\n",
        "        print(\"Option C\")\n",
        "    case _:\n",
        "        print(\"Invalid Option\")"
      ],
      "metadata": {
        "colab": {
          "base_uri": "https://localhost:8080/"
        },
        "id": "k9EE_fg4nR4h",
        "outputId": "c621a2a3-aebe-45ee-e90d-1f938440aede"
      },
      "id": "k9EE_fg4nR4h",
      "execution_count": 7,
      "outputs": [
        {
          "output_type": "stream",
          "name": "stdout",
          "text": [
            "Option B\n"
          ]
        }
      ]
    },
    {
      "cell_type": "markdown",
      "source": [
        "#### 2.2.2 Looping Structures"
      ],
      "metadata": {
        "id": "WZfNXzEWlsmJ"
      },
      "id": "WZfNXzEWlsmJ"
    },
    {
      "cell_type": "markdown",
      "source": [
        "Used to repeat a block of code multiple times. In Python, the two main types are:"
      ],
      "metadata": {
        "id": "ooKISvFtl5Yl"
      },
      "id": "ooKISvFtl5Yl"
    },
    {
      "cell_type": "markdown",
      "source": [
        "##### 2.2.2.1 for loop"
      ],
      "metadata": {
        "id": "WGmoYv9Il7xA"
      },
      "id": "WGmoYv9Il7xA"
    },
    {
      "cell_type": "markdown",
      "source": [
        "Iterates over sequences (lists, strings, ranges, etc.)."
      ],
      "metadata": {
        "id": "GWZqvouAmFKA"
      },
      "id": "GWZqvouAmFKA"
    },
    {
      "cell_type": "code",
      "source": [
        "for i in range(5):\n",
        "    print(i)  # Prints 0 to 4\n"
      ],
      "metadata": {
        "colab": {
          "base_uri": "https://localhost:8080/"
        },
        "id": "nYWAT1zOlln0",
        "outputId": "4bd718a6-5694-4fd9-9aac-b468a386ddac"
      },
      "id": "nYWAT1zOlln0",
      "execution_count": 4,
      "outputs": [
        {
          "output_type": "stream",
          "name": "stdout",
          "text": [
            "0\n",
            "1\n",
            "2\n",
            "3\n",
            "4\n"
          ]
        }
      ]
    },
    {
      "cell_type": "code",
      "source": [
        "mylist = [1, 'a', 'Hello']\n",
        "\n",
        "# Loop over the list\n",
        "for item in mylist:\n",
        "    print(item)"
      ],
      "metadata": {
        "colab": {
          "base_uri": "https://localhost:8080/"
        },
        "id": "QOD70_ZBmhgh",
        "outputId": "ae780c40-b0df-47f6-c06c-1b6f22b66afb"
      },
      "id": "QOD70_ZBmhgh",
      "execution_count": 5,
      "outputs": [
        {
          "output_type": "stream",
          "name": "stdout",
          "text": [
            "1\n",
            "a\n",
            "Hello\n"
          ]
        }
      ]
    },
    {
      "cell_type": "markdown",
      "source": [],
      "metadata": {
        "id": "3J1vZsIamhEy"
      },
      "id": "3J1vZsIamhEy"
    },
    {
      "cell_type": "markdown",
      "source": [
        "#### 2.2.2.2 while loop"
      ],
      "metadata": {
        "id": "XQgNGhKBmJqB"
      },
      "id": "XQgNGhKBmJqB"
    },
    {
      "cell_type": "markdown",
      "source": [
        "Repeats as long as a condition is true."
      ],
      "metadata": {
        "id": "itJk6xZJmOcx"
      },
      "id": "itJk6xZJmOcx"
    },
    {
      "cell_type": "code",
      "source": [
        "counter = 0\n",
        "while counter < 5:\n",
        "    print(counter)\n",
        "    counter += 1"
      ],
      "metadata": {
        "colab": {
          "base_uri": "https://localhost:8080/"
        },
        "id": "yFC_vKtZmG_z",
        "outputId": "05c0b852-80b3-429d-8912-e1ce8e1e6382"
      },
      "id": "yFC_vKtZmG_z",
      "execution_count": 3,
      "outputs": [
        {
          "output_type": "stream",
          "name": "stdout",
          "text": [
            "0\n",
            "1\n",
            "2\n",
            "3\n",
            "4\n"
          ]
        }
      ]
    },
    {
      "cell_type": "markdown",
      "source": [
        "### 2.3 Functions"
      ],
      "metadata": {
        "id": "LmKH3qudn5hI"
      },
      "id": "LmKH3qudn5hI"
    },
    {
      "cell_type": "markdown",
      "source": [
        "A Python function can be defined once and used many times. So it aids in code reuse: you don’t want to write the same code more than once.\n",
        "\n",
        "Functions are a great way to keep your code short, concise, and readable. By giving a function a well-chosen name, your code will become even more readable because the function name directly explains what will happen. This way, others (or future you) can read your code, and without looking at all of it, understand what it’s doing anyway because of the well-chosen function names."
      ],
      "metadata": {
        "id": "ftdSIT5Yxgqq"
      },
      "id": "ftdSIT5Yxgqq"
    },
    {
      "cell_type": "code",
      "source": [
        "def say_hi(name = \"earth\"):\n",
        "    print('Hi, ' + name)\n",
        "\n",
        "print(\"Let's greet the entire world\")\n",
        "say_hi('world')\n",
        "say_hi()"
      ],
      "metadata": {
        "colab": {
          "base_uri": "https://localhost:8080/"
        },
        "id": "5OAIsMsCn9zz",
        "outputId": "26ee97d2-4060-46aa-dbc5-d3a6b80d9cfe"
      },
      "id": "5OAIsMsCn9zz",
      "execution_count": 11,
      "outputs": [
        {
          "output_type": "stream",
          "name": "stdout",
          "text": [
            "Let's greet the entire world\n",
            "Hi, world\n",
            "Hi, earth\n"
          ]
        }
      ]
    },
    {
      "cell_type": "markdown",
      "source": [
        "### 2.4 Comments"
      ],
      "metadata": {
        "id": "eSX62uBEyGF-"
      },
      "id": "eSX62uBEyGF-"
    },
    {
      "cell_type": "markdown",
      "source": [
        "A Python comment is an explanation in the source code of a Python program. It doesn’t do anything besides being informative and is ignored by the Python interpreter."
      ],
      "metadata": {
        "id": "Jxp3zQxqybAz"
      },
      "id": "Jxp3zQxqybAz"
    },
    {
      "cell_type": "code",
      "source": [
        "# This is a single-line comment in Python\n",
        "print('Hello')\n",
        "# And here's another one!"
      ],
      "metadata": {
        "colab": {
          "base_uri": "https://localhost:8080/"
        },
        "id": "lAZBp1rCyase",
        "outputId": "7619abcc-cb40-4195-91aa-07282ff271ad"
      },
      "id": "lAZBp1rCyase",
      "execution_count": 12,
      "outputs": [
        {
          "output_type": "stream",
          "name": "stdout",
          "text": [
            "Hello\n"
          ]
        }
      ]
    },
    {
      "cell_type": "code",
      "source": [],
      "metadata": {
        "id": "VK5ZMMCbyf7F"
      },
      "id": "VK5ZMMCbyf7F",
      "execution_count": null,
      "outputs": []
    }
  ]
}