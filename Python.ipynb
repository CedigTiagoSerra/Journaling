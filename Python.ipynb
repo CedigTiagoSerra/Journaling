{
  "nbformat": 4,
  "nbformat_minor": 0,
  "metadata": {
    "colab": {
      "provenance": [],
      "toc_visible": true,
      "authorship_tag": "ABX9TyNeB19oU4/2+g586kuOoIVp",
      "include_colab_link": true
    },
    "kernelspec": {
      "name": "python3",
      "display_name": "Python 3"
    },
    "language_info": {
      "name": "python"
    }
  },
  "cells": [
    {
      "cell_type": "markdown",
      "metadata": {
        "id": "view-in-github",
        "colab_type": "text"
      },
      "source": [
        "<a href=\"https://colab.research.google.com/github/CedigTiagoSerra/Journaling/blob/main/Python.ipynb\" target=\"_parent\"><img src=\"https://colab.research.google.com/assets/colab-badge.svg\" alt=\"Open In Colab\"/></a>"
      ]
    },
    {
      "cell_type": "markdown",
      "source": [
        "# Python"
      ],
      "metadata": {
        "id": "O6xCRfmhiKKF"
      }
    },
    {
      "cell_type": "markdown",
      "source": [
        "## 1. History of Python"
      ],
      "metadata": {
        "id": "s5-IE37niPJj"
      }
    },
    {
      "cell_type": "markdown",
      "source": [
        "Python was created in 1989 by Guido van Rossum at CWI in the Netherlands as a simple, readable programming language that combined the power of C with the ease of shell scripting. It was released publicly in 1991 as Python 1.0, followed by Python 2.0 in 2000, which introduced features like list comprehensions and Unicode, but was officially discontinued in 2020. Python 3.0, launched in 2008, fixed design flaws and is the version widely used today. The name “Python” was inspired not by the snake, but by the British comedy show “Monty Python’s Flying Circus”, which Guido enjoyed and wanted the language to reflect — being fun and approachable as well as powerful.\n",
        "\n",
        "**Infographic of Python’s history:**\n",
        "\n",
        "<img src=\"https://raw.githubusercontent.com/CedigTiagoSerra/Journaling/refs/heads/main/resources/img/python_history.png\" width=\"350\" />"
      ],
      "metadata": {
        "id": "gFMjV7bUiW4N"
      }
    },
    {
      "cell_type": "markdown",
      "source": [
        "## 2. Introduction to Python"
      ],
      "metadata": {
        "id": "IQ0WFkpwL83L"
      }
    },
    {
      "cell_type": "markdown",
      "source": [
        "### 2.1 Variables and Operators"
      ],
      "metadata": {
        "id": "nef7zkfWMTI6"
      }
    },
    {
      "cell_type": "markdown",
      "source": [
        "A variable is used to store information that can be referenced later on."
      ],
      "metadata": {
        "id": "sbWtdSK1O-eF"
      }
    },
    {
      "cell_type": "code",
      "source": [
        "result = 3 * 5\n",
        "result"
      ],
      "metadata": {
        "id": "jPFPXco0MRY6",
        "outputId": "55b58020-0175-4ce2-c872-8ba74883fd9b",
        "colab": {
          "base_uri": "https://localhost:8080/"
        }
      },
      "execution_count": 2,
      "outputs": [
        {
          "output_type": "execute_result",
          "data": {
            "text/plain": [
              "15"
            ]
          },
          "metadata": {},
          "execution_count": 2
        }
      ]
    },
    {
      "cell_type": "code",
      "source": [],
      "metadata": {
        "id": "8KkJi4PTPGFG"
      },
      "execution_count": null,
      "outputs": []
    }
  ]
}