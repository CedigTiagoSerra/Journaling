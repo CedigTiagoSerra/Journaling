{
  "nbformat": 4,
  "nbformat_minor": 0,
  "metadata": {
    "colab": {
      "provenance": [],
      "toc_visible": true,
      "authorship_tag": "ABX9TyMbXu5I1sTv0Kh9Cw7kytx3",
      "include_colab_link": true
    },
    "kernelspec": {
      "name": "python3",
      "display_name": "Python 3"
    },
    "language_info": {
      "name": "python"
    }
  },
  "cells": [
    {
      "cell_type": "markdown",
      "metadata": {
        "id": "view-in-github",
        "colab_type": "text"
      },
      "source": [
        "<a href=\"https://colab.research.google.com/github/CedigTiagoSerra/Journaling/blob/main/Python.ipynb\" target=\"_parent\"><img src=\"https://colab.research.google.com/assets/colab-badge.svg\" alt=\"Open In Colab\"/></a>"
      ]
    },
    {
      "cell_type": "markdown",
      "source": [
        "# Python"
      ],
      "metadata": {
        "id": "O6xCRfmhiKKF"
      }
    },
    {
      "cell_type": "markdown",
      "source": [
        "## 1.History of Python"
      ],
      "metadata": {
        "id": "s5-IE37niPJj"
      }
    },
    {
      "cell_type": "markdown",
      "source": [
        "Python was created in 1989 by Guido van Rossum at CWI in the Netherlands as a simple, readable programming language that combined the power of C with the ease of shell scripting. It was released publicly in 1991 as Python 1.0, followed by Python 2.0 in 2000, which introduced features like list comprehensions and Unicode, but was officially discontinued in 2020. Python 3.0, launched in 2008, fixed design flaws and is the version widely used today. The name “Python” was inspired not by the snake, but by the British comedy show “Monty Python’s Flying Circus”, which Guido enjoyed and wanted the language to reflect — being fun and approachable as well as powerful.\n",
        "\n",
        "**Infographic of Python’s history:**\n",
        "\n",
        "<img src=\"https://raw.githubusercontent.com/CedigTiagoSerra/Journaling/refs/heads/main/resources/img/python_history.png\" width=\"350\" />"
      ],
      "metadata": {
        "id": "gFMjV7bUiW4N"
      }
    },
    {
      "cell_type": "markdown",
      "source": [
        "## 2.Introduction to Python"
      ],
      "metadata": {
        "id": "IQ0WFkpwL83L"
      }
    },
    {
      "cell_type": "markdown",
      "source": [
        "### 2.1 Variables and Operators"
      ],
      "metadata": {
        "id": "nef7zkfWMTI6"
      }
    },
    {
      "cell_type": "markdown",
      "source": [
        "A variable is used to store information that can be referenced later on."
      ],
      "metadata": {
        "id": "sbWtdSK1O-eF"
      }
    },
    {
      "cell_type": "code",
      "source": [
        "result = 3 * 5\n",
        "result"
      ],
      "metadata": {
        "colab": {
          "base_uri": "https://localhost:8080/"
        },
        "id": "jPFPXco0MRY6",
        "outputId": "55b58020-0175-4ce2-c872-8ba74883fd9b"
      },
      "execution_count": 2,
      "outputs": [
        {
          "output_type": "execute_result",
          "data": {
            "text/plain": [
              "15"
            ]
          },
          "metadata": {},
          "execution_count": 2
        }
      ]
    },
    {
      "cell_type": "markdown",
      "source": [
        "#### 2.1.1 Python data types"
      ],
      "metadata": {
        "id": "W4X34KfxQwo8"
      }
    },
    {
      "cell_type": "markdown",
      "source": [
        "##### 2.1.1.1 Integer"
      ],
      "metadata": {
        "id": "iICHM5OCRBbc"
      }
    },
    {
      "cell_type": "markdown",
      "source": [
        "The Python integer is a non-fractional number, like 1, 2, 45, -1, -2, and -100. It’s one of the three types of numbers."
      ],
      "metadata": {
        "id": "OafW8xflReY9"
      }
    },
    {
      "cell_type": "code",
      "source": [
        "integer = 98762345098709872345000\n",
        "integer + 1\n",
        "integer"
      ],
      "metadata": {
        "colab": {
          "base_uri": "https://localhost:8080/"
        },
        "id": "8KkJi4PTPGFG",
        "outputId": "3624451c-170b-4366-9319-f3f37cad5343"
      },
      "execution_count": 7,
      "outputs": [
        {
          "output_type": "execute_result",
          "data": {
            "text/plain": [
              "98762345098709872345000"
            ]
          },
          "metadata": {},
          "execution_count": 7
        }
      ]
    },
    {
      "cell_type": "code",
      "source": [
        "# String to integer\n",
        "int('100')"
      ],
      "metadata": {
        "id": "TnfaBoWKQAYd",
        "outputId": "163d213b-4fed-4a52-ce4b-c034d5a1b96c",
        "colab": {
          "base_uri": "https://localhost:8080/"
        }
      },
      "execution_count": 8,
      "outputs": [
        {
          "output_type": "execute_result",
          "data": {
            "text/plain": [
              "100"
            ]
          },
          "metadata": {},
          "execution_count": 8
        }
      ]
    },
    {
      "cell_type": "code",
      "source": [
        "# Integer to string\n",
        "str(200)"
      ],
      "metadata": {
        "id": "KiCTHp35R_JN",
        "outputId": "690bcb1e-c026-4d5d-d601-24d397de20b3",
        "colab": {
          "base_uri": "https://localhost:8080/",
          "height": 35
        }
      },
      "execution_count": 10,
      "outputs": [
        {
          "output_type": "execute_result",
          "data": {
            "text/plain": [
              "'200'"
            ],
            "application/vnd.google.colaboratory.intrinsic+json": {
              "type": "string"
            }
          },
          "metadata": {},
          "execution_count": 10
        }
      ]
    },
    {
      "cell_type": "code",
      "source": [
        "# Float to integer\n",
        "int(2.3)"
      ],
      "metadata": {
        "id": "9-lBfTe3SBRb",
        "outputId": "8b286094-5a1f-45df-a84b-bba1f0d89386",
        "colab": {
          "base_uri": "https://localhost:8080/"
        }
      },
      "execution_count": 11,
      "outputs": [
        {
          "output_type": "execute_result",
          "data": {
            "text/plain": [
              "2"
            ]
          },
          "metadata": {},
          "execution_count": 11
        }
      ]
    },
    {
      "cell_type": "code",
      "source": [
        "# Random\n",
        "import random\n",
        "random.randint(1,10)"
      ],
      "metadata": {
        "id": "wpiQjqdJSJJj",
        "outputId": "a34643f6-410b-40b8-ef95-aecafb2ee8e6",
        "colab": {
          "base_uri": "https://localhost:8080/"
        }
      },
      "execution_count": 13,
      "outputs": [
        {
          "output_type": "execute_result",
          "data": {
            "text/plain": [
              "9"
            ]
          },
          "metadata": {},
          "execution_count": 13
        }
      ]
    },
    {
      "cell_type": "markdown",
      "source": [
        "We can use the type() function to check if a value is an integer."
      ],
      "metadata": {
        "id": "37h05Vr1SuAY"
      }
    },
    {
      "cell_type": "code",
      "source": [
        "type(2)"
      ],
      "metadata": {
        "id": "8YqqKU1XSmUX",
        "outputId": "f0fc146a-662c-4785-c818-27f6bea88eda",
        "colab": {
          "base_uri": "https://localhost:8080/"
        }
      },
      "execution_count": 16,
      "outputs": [
        {
          "output_type": "execute_result",
          "data": {
            "text/plain": [
              "int"
            ]
          },
          "metadata": {},
          "execution_count": 16
        }
      ]
    },
    {
      "cell_type": "code",
      "source": [
        "if isinstance(2, int):\n",
        "  print('An integer')"
      ],
      "metadata": {
        "id": "rNTCR5m6S4Eb",
        "outputId": "f69d6455-94bb-40b8-fd07-30ef571fa4a1",
        "colab": {
          "base_uri": "https://localhost:8080/"
        }
      },
      "execution_count": 17,
      "outputs": [
        {
          "output_type": "stream",
          "name": "stdout",
          "text": [
            "An integer\n"
          ]
        }
      ]
    },
    {
      "cell_type": "code",
      "source": [],
      "metadata": {
        "id": "Xc0lTQE_S8Zp"
      },
      "execution_count": null,
      "outputs": []
    },
    {
      "cell_type": "markdown",
      "source": [
        "##### 2.1.1.2 Float"
      ],
      "metadata": {
        "id": "PzHtuCC0TSZv"
      }
    },
    {
      "cell_type": "markdown",
      "source": [
        "A Python float is a numerical data type that represents a floating-point number."
      ],
      "metadata": {
        "id": "GmdqyTPkUtv1"
      }
    },
    {
      "cell_type": "code",
      "source": [
        "f = 1.45\n",
        "f"
      ],
      "metadata": {
        "id": "4K3QPSiMUnsR",
        "outputId": "31e5e8c2-4a29-4f48-a588-7c8b79313940",
        "colab": {
          "base_uri": "https://localhost:8080/"
        }
      },
      "execution_count": 18,
      "outputs": [
        {
          "output_type": "execute_result",
          "data": {
            "text/plain": [
              "1.45"
            ]
          },
          "metadata": {},
          "execution_count": 18
        }
      ]
    },
    {
      "cell_type": "code",
      "source": [
        "f = float(2.0)\n",
        "f = float(2)\n",
        "f = float(\"2\")\n",
        "f"
      ],
      "metadata": {
        "id": "7ohbfkh8U0Q9",
        "outputId": "d3d3053d-0613-409e-f21d-caa0dfbdb83c",
        "colab": {
          "base_uri": "https://localhost:8080/"
        }
      },
      "execution_count": 21,
      "outputs": [
        {
          "output_type": "execute_result",
          "data": {
            "text/plain": [
              "2.0"
            ]
          },
          "metadata": {},
          "execution_count": 21
        }
      ]
    },
    {
      "cell_type": "code",
      "source": [
        "f = 1.45e3\n",
        "f"
      ],
      "metadata": {
        "id": "e43eFyrCU3YZ",
        "outputId": "654cdf94-16ff-4a30-8336-be3fa130be30",
        "colab": {
          "base_uri": "https://localhost:8080/"
        }
      },
      "execution_count": 23,
      "outputs": [
        {
          "output_type": "execute_result",
          "data": {
            "text/plain": [
              "1450.0"
            ]
          },
          "metadata": {},
          "execution_count": 23
        }
      ]
    },
    {
      "cell_type": "markdown",
      "source": [
        "**Round, floor, and upper**\n",
        "\n",
        "With floats, we often need to round numbers. For this, Python has the round function. The round function accepts two arguments: the number itself and an optional precision (the number of decimals). The default for this last number is 0, meaning that it will round to whole integers. Some examples:"
      ],
      "metadata": {
        "id": "AgDSmsrHVIyt"
      }
    },
    {
      "cell_type": "code",
      "source": [
        "f = 1.4567\n",
        "round(f)\n",
        "f"
      ],
      "metadata": {
        "id": "5UopZb0uU6v6",
        "outputId": "873de97c-f668-458b-8e85-af230b889c89",
        "colab": {
          "base_uri": "https://localhost:8080/"
        }
      },
      "execution_count": 24,
      "outputs": [
        {
          "output_type": "execute_result",
          "data": {
            "text/plain": [
              "1.4567"
            ]
          },
          "metadata": {},
          "execution_count": 24
        }
      ]
    },
    {
      "cell_type": "code",
      "source": [
        "round(f, 2)"
      ],
      "metadata": {
        "id": "JnOmRCT4VTR8",
        "outputId": "ba84156b-c851-47ad-d44e-f512d4ea8d1d",
        "colab": {
          "base_uri": "https://localhost:8080/"
        }
      },
      "execution_count": 25,
      "outputs": [
        {
          "output_type": "execute_result",
          "data": {
            "text/plain": [
              "1.46"
            ]
          },
          "metadata": {},
          "execution_count": 25
        }
      ]
    },
    {
      "cell_type": "code",
      "source": [
        "f = 1.54\n",
        "round(f)"
      ],
      "metadata": {
        "id": "lundWefzVWBR",
        "outputId": "0fd1e2b9-11f5-4b42-e345-b421c2dc640c",
        "colab": {
          "base_uri": "https://localhost:8080/"
        }
      },
      "execution_count": 26,
      "outputs": [
        {
          "output_type": "execute_result",
          "data": {
            "text/plain": [
              "2"
            ]
          },
          "metadata": {},
          "execution_count": 26
        }
      ]
    },
    {
      "cell_type": "code",
      "source": [
        "round(f, 1)"
      ],
      "metadata": {
        "id": "fY4Fn-4QVbKv",
        "outputId": "aebcf127-a99e-4269-c741-b7399f8b836c",
        "colab": {
          "base_uri": "https://localhost:8080/"
        }
      },
      "execution_count": 27,
      "outputs": [
        {
          "output_type": "execute_result",
          "data": {
            "text/plain": [
              "1.5"
            ]
          },
          "metadata": {},
          "execution_count": 27
        }
      ]
    },
    {
      "cell_type": "code",
      "source": [
        "from math import floor, ceil\n",
        "# Round 1.23 down to the nearest integer\n",
        "x = floor(1.23)  # x will be 1\n",
        "x"
      ],
      "metadata": {
        "id": "t822qGV5VdKZ",
        "outputId": "67b6f1c9-9051-415a-a439-f61641808592",
        "colab": {
          "base_uri": "https://localhost:8080/"
        }
      },
      "execution_count": 30,
      "outputs": [
        {
          "output_type": "execute_result",
          "data": {
            "text/plain": [
              "1"
            ]
          },
          "metadata": {},
          "execution_count": 30
        }
      ]
    },
    {
      "cell_type": "code",
      "source": [
        "from math import floor, ceil\n",
        "# Round 1.23 up to the nearest integer\n",
        "y = ceil(1.23)  # y will be 2\n",
        "y"
      ],
      "metadata": {
        "id": "73HtkfYaYX2p",
        "outputId": "c81c0c1d-7be6-4c41-8760-4c78b1826d0e",
        "colab": {
          "base_uri": "https://localhost:8080/"
        }
      },
      "execution_count": 31,
      "outputs": [
        {
          "output_type": "execute_result",
          "data": {
            "text/plain": [
              "2"
            ]
          },
          "metadata": {},
          "execution_count": 31
        }
      ]
    },
    {
      "cell_type": "markdown",
      "source": [
        "##### 2.1.1.3 Tuple"
      ],
      "metadata": {
        "id": "iCmndfMCZB91"
      }
    },
    {
      "cell_type": "markdown",
      "source": [
        "In Python, a tuple is an ordered and immutable collection of elements.\n",
        "This means:\n",
        "*   Ordered → It preserves the order in which the items were added;\n",
        "*   Immutable → Once created, you cannot change, add, or remove elements;\n",
        "*   Can hold different data types → Numbers, strings, lists, etc;\n",
        "*   Uses parentheses () to define it (unlike lists, which use [])."
      ],
      "metadata": {
        "id": "RUP7PiM0ZIxI"
      }
    },
    {
      "cell_type": "code",
      "source": [
        "# Creating a tuple\n",
        "my_tuple = (1, \"Python\", 3.14)\n",
        "\n",
        "# Accessing elements\n",
        "print(my_tuple[0])   # Output: 1\n",
        "print(my_tuple[1])   # Output: Python\n",
        "\n",
        "# Length of tuple\n",
        "print(len(my_tuple)) # Output: 3"
      ],
      "metadata": {
        "id": "dyHxJ79rZGEd",
        "outputId": "9145cb7b-2be1-4fb6-b0a8-81aa26cf16e6",
        "colab": {
          "base_uri": "https://localhost:8080/"
        }
      },
      "execution_count": 32,
      "outputs": [
        {
          "output_type": "stream",
          "name": "stdout",
          "text": [
            "1\n",
            "Python\n",
            "3\n"
          ]
        }
      ]
    },
    {
      "cell_type": "markdown",
      "source": [
        "##### 2.1.1.4 Lists"
      ],
      "metadata": {
        "id": "bBIum7rQacV1"
      }
    },
    {
      "cell_type": "markdown",
      "source": [
        "A list is an ordered and mutable collection of elements.\n",
        "\n",
        "\n",
        "*   Ordered → Maintains the order of items;\n",
        "*   Mutable → You can add, remove, or modify elements after creating it;\n",
        "*   Can hold different data types → Numbers, strings, objects, even other lists;\n",
        "*   Uses square brackets [] to define it."
      ],
      "metadata": {
        "id": "Df20CrH-agOs"
      }
    },
    {
      "cell_type": "code",
      "source": [
        "# Creating a list\n",
        "my_list = [1, \"Python\", 3.14]\n",
        "\n",
        "# Accessing elements\n",
        "print(my_list[0])   # Output: 1\n",
        "\n",
        "# Adding an element\n",
        "my_list.append(\"New item\")\n",
        "print(my_list)      # Output: [1, \"Python\", 3.14, \"New item\"]\n",
        "\n",
        "# Modifying an element\n",
        "my_list[1] = \"JavaScript\"\n",
        "print(my_list)      # Output: [1, \"JavaScript\", 3.14, \"New item\"]"
      ],
      "metadata": {
        "id": "OMirsijmZewl",
        "outputId": "c7e800a3-0b9d-499d-8b9e-4539a338cab2",
        "colab": {
          "base_uri": "https://localhost:8080/"
        }
      },
      "execution_count": 33,
      "outputs": [
        {
          "output_type": "stream",
          "name": "stdout",
          "text": [
            "1\n",
            "[1, 'Python', 3.14, 'New item']\n",
            "[1, 'JavaScript', 3.14, 'New item']\n"
          ]
        }
      ]
    },
    {
      "cell_type": "markdown",
      "source": [],
      "metadata": {
        "id": "1d-KXMLNc0kk"
      }
    },
    {
      "cell_type": "markdown",
      "source": [
        "##### 2.1.1.5 Set"
      ],
      "metadata": {
        "id": "syqbnUscc3ic"
      }
    },
    {
      "cell_type": "markdown",
      "source": [
        "A set is an unordered collection of unique elements.\n",
        "\n",
        "*   Unordered → The items don’t have a fixed position (no indexing);\n",
        "*   Unique values → Duplicates are automatically removed;\n",
        "*   Mutable → You can add or remove elements, but not modify them directly;\n",
        "*   Uses curly braces {} or the set() constructor."
      ],
      "metadata": {
        "id": "J06WRI36c8KF"
      }
    },
    {
      "cell_type": "code",
      "source": [
        "# Creating a set\n",
        "my_set = {1, 2, 3, 3, 4}\n",
        "\n",
        "print(my_set)  # Output: {1, 2, 3, 4} (duplicates removed)\n",
        "\n",
        "# Adding an element\n",
        "my_set.add(5)\n",
        "print(my_set)  # Output: {1, 2, 3, 4, 5}\n",
        "\n",
        "# Removing an element\n",
        "my_set.remove(2)\n",
        "print(my_set)  # Output: {1, 3, 4, 5}"
      ],
      "metadata": {
        "id": "rqOXsXF_azxV",
        "outputId": "469922b9-b0e3-4176-cfec-4fa6296ded76",
        "colab": {
          "base_uri": "https://localhost:8080/"
        }
      },
      "execution_count": 34,
      "outputs": [
        {
          "output_type": "stream",
          "name": "stdout",
          "text": [
            "{1, 2, 3, 4}\n",
            "{1, 2, 3, 4, 5}\n",
            "{1, 3, 4, 5}\n"
          ]
        }
      ]
    },
    {
      "cell_type": "markdown",
      "source": [
        "##### 2.1.1.6 Dictionary"
      ],
      "metadata": {
        "id": "x1RqSK-pdcTu"
      }
    },
    {
      "cell_type": "markdown",
      "source": [
        "A dictionary is a collection of key–value pairs where each key is unique.\n",
        "\n",
        "*   Key–Value Structure → You access values using a key instead of an index;\n",
        "*   Mutable → You can add, remove, or modify items;\n",
        "*   Keys are unique; values can be duplicated;\n",
        "*   Uses curly braces {} with a key: value format.\n"
      ],
      "metadata": {
        "id": "R0MARlxydx-f"
      }
    },
    {
      "cell_type": "code",
      "source": [
        "# Creating a dictionary\n",
        "my_dict = {\n",
        "    \"name\": \"Alice\",\n",
        "    \"age\": 25,\n",
        "    \"city\": \"New York\"\n",
        "}\n",
        "\n",
        "# Accessing values by key\n",
        "print(my_dict[\"name\"])  # Output: Alice\n",
        "\n",
        "# Adding a new key-value pair\n",
        "my_dict[\"country\"] = \"USA\"\n",
        "\n",
        "# Modifying a value\n",
        "my_dict[\"age\"] = 26\n",
        "\n",
        "# Removing a key-value pair\n",
        "del my_dict[\"city\"]\n",
        "\n",
        "print(my_dict)\n",
        "# Output: {'name': 'Alice', 'age': 26, 'country': 'USA'}"
      ],
      "metadata": {
        "id": "iOwxvSWzdQ0P",
        "outputId": "65a0d111-2dbe-4ddd-c65b-9b2dffd86016",
        "colab": {
          "base_uri": "https://localhost:8080/"
        }
      },
      "execution_count": 35,
      "outputs": [
        {
          "output_type": "stream",
          "name": "stdout",
          "text": [
            "Alice\n",
            "{'name': 'Alice', 'age': 26, 'country': 'USA'}\n"
          ]
        }
      ]
    },
    {
      "cell_type": "code",
      "source": [],
      "metadata": {
        "id": "s22c2XXIeHF_"
      },
      "execution_count": null,
      "outputs": []
    }
  ]
}