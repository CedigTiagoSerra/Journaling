{
  "nbformat": 4,
  "nbformat_minor": 0,
  "metadata": {
    "colab": {
      "provenance": [],
      "toc_visible": true,
      "authorship_tag": "ABX9TyMNPCr9cQFJuonoepYfNSeD",
      "include_colab_link": true
    },
    "kernelspec": {
      "name": "python3",
      "display_name": "Python 3"
    },
    "language_info": {
      "name": "python"
    }
  },
  "cells": [
    {
      "cell_type": "markdown",
      "metadata": {
        "id": "view-in-github",
        "colab_type": "text"
      },
      "source": [
        "<a href=\"https://colab.research.google.com/github/CedigTiagoSerra/Journaling/blob/main/Python.ipynb\" target=\"_parent\"><img src=\"https://colab.research.google.com/assets/colab-badge.svg\" alt=\"Open In Colab\"/></a>"
      ]
    },
    {
      "cell_type": "markdown",
      "source": [],
      "metadata": {
        "id": "xB3T0-_liJQW"
      }
    },
    {
      "cell_type": "markdown",
      "source": [
        "# New Section"
      ],
      "metadata": {
        "id": "O6xCRfmhiKKF"
      }
    },
    {
      "cell_type": "markdown",
      "source": [
        "## sub section"
      ],
      "metadata": {
        "id": "s5-IE37niPJj"
      }
    },
    {
      "cell_type": "markdown",
      "source": [
        "### sub sub section"
      ],
      "metadata": {
        "id": "gFMjV7bUiW4N"
      }
    },
    {
      "cell_type": "markdown",
      "source": [
        "#### sub sub sub sectiom"
      ],
      "metadata": {
        "id": "h3bla382jKu9"
      }
    },
    {
      "cell_type": "code",
      "source": [],
      "metadata": {
        "id": "n-_fCeiniT_r"
      },
      "execution_count": null,
      "outputs": []
    }
  ]
}